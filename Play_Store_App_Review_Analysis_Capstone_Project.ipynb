{
  "nbformat": 4,
  "nbformat_minor": 0,
  "metadata": {
    "colab": {
      "name": "Play Store App Review Analysis - Capstone Project.ipynb",
      "provenance": [],
      "collapsed_sections": [],
      "mount_file_id": "1mbPL_Cayoy8rWqenS5dSiJj8gmxbprM6",
      "authorship_tag": "ABX9TyNrEktqApFksI7H9Oa1UCpz",
      "include_colab_link": true
    },
    "kernelspec": {
      "display_name": "Python 3",
      "name": "python3"
    },
    "language_info": {
      "name": "python"
    }
  },
  "cells": [
    {
      "cell_type": "markdown",
      "metadata": {
        "id": "view-in-github",
        "colab_type": "text"
      },
      "source": [
        "<a href=\"https://colab.research.google.com/github/Preetirai-tech/Play-Store-App-Review-Analysis/blob/main/Play_Store_App_Review_Analysis_Capstone_Project.ipynb\" target=\"_parent\"><img src=\"https://colab.research.google.com/assets/colab-badge.svg\" alt=\"Open In Colab\"/></a>"
      ]
    },
    {
      "cell_type": "markdown",
      "metadata": {
        "id": "gAI6udmVXZj_"
      },
      "source": [
        "# Imported the necessary libraries that can be needed for EDA."
      ]
    },
    {
      "cell_type": "code",
      "metadata": {
        "id": "sbBkALaeM74d"
      },
      "source": [
        "import pandas as pd\n",
        "import numpy as np\n",
        "import matplotlib.pyplot as plt\n",
        "import datetime"
      ],
      "execution_count": 1,
      "outputs": []
    },
    {
      "cell_type": "markdown",
      "metadata": {
        "id": "0mWoAxbXXqY_"
      },
      "source": [
        "### Lets read the file as play_df and reviews_df for play_store data and user_reviews data"
      ]
    },
    {
      "cell_type": "code",
      "metadata": {
        "id": "wE4J1HfUXWpL"
      },
      "source": [
        "play_df = pd.read_csv(\"/content/drive/MyDrive/AlmaBetter /Capstone Projects/EDA/Play Store Data.csv\")\n",
        "reviews_df = pd.read_csv(\"/content/drive/MyDrive/AlmaBetter /Capstone Projects/EDA/User Reviews.csv\")"
      ],
      "execution_count": 2,
      "outputs": []
    },
    {
      "cell_type": "code",
      "metadata": {
        "colab": {
          "base_uri": "https://localhost:8080/",
          "height": 206
        },
        "id": "df2zIR4fX3Qp",
        "outputId": "9e04141e-8d5c-42bb-8755-37aea78ad1b5"
      },
      "source": [
        "play_df.head()"
      ],
      "execution_count": 3,
      "outputs": [
        {
          "output_type": "execute_result",
          "data": {
            "text/html": [
              "<div>\n",
              "<style scoped>\n",
              "    .dataframe tbody tr th:only-of-type {\n",
              "        vertical-align: middle;\n",
              "    }\n",
              "\n",
              "    .dataframe tbody tr th {\n",
              "        vertical-align: top;\n",
              "    }\n",
              "\n",
              "    .dataframe thead th {\n",
              "        text-align: right;\n",
              "    }\n",
              "</style>\n",
              "<table border=\"1\" class=\"dataframe\">\n",
              "  <thead>\n",
              "    <tr style=\"text-align: right;\">\n",
              "      <th></th>\n",
              "      <th>App</th>\n",
              "      <th>Category</th>\n",
              "      <th>Rating</th>\n",
              "      <th>Reviews</th>\n",
              "      <th>Size</th>\n",
              "      <th>Installs</th>\n",
              "      <th>Type</th>\n",
              "      <th>Price</th>\n",
              "      <th>Content Rating</th>\n",
              "      <th>Genres</th>\n",
              "      <th>Last Updated</th>\n",
              "      <th>Current Ver</th>\n",
              "      <th>Android Ver</th>\n",
              "    </tr>\n",
              "  </thead>\n",
              "  <tbody>\n",
              "    <tr>\n",
              "      <th>0</th>\n",
              "      <td>Photo Editor &amp; Candy Camera &amp; Grid &amp; ScrapBook</td>\n",
              "      <td>ART_AND_DESIGN</td>\n",
              "      <td>4.1</td>\n",
              "      <td>159</td>\n",
              "      <td>19M</td>\n",
              "      <td>10,000+</td>\n",
              "      <td>Free</td>\n",
              "      <td>0</td>\n",
              "      <td>Everyone</td>\n",
              "      <td>Art &amp; Design</td>\n",
              "      <td>January 7, 2018</td>\n",
              "      <td>1.0.0</td>\n",
              "      <td>4.0.3 and up</td>\n",
              "    </tr>\n",
              "    <tr>\n",
              "      <th>1</th>\n",
              "      <td>Coloring book moana</td>\n",
              "      <td>ART_AND_DESIGN</td>\n",
              "      <td>3.9</td>\n",
              "      <td>967</td>\n",
              "      <td>14M</td>\n",
              "      <td>500,000+</td>\n",
              "      <td>Free</td>\n",
              "      <td>0</td>\n",
              "      <td>Everyone</td>\n",
              "      <td>Art &amp; Design;Pretend Play</td>\n",
              "      <td>January 15, 2018</td>\n",
              "      <td>2.0.0</td>\n",
              "      <td>4.0.3 and up</td>\n",
              "    </tr>\n",
              "    <tr>\n",
              "      <th>2</th>\n",
              "      <td>U Launcher Lite – FREE Live Cool Themes, Hide ...</td>\n",
              "      <td>ART_AND_DESIGN</td>\n",
              "      <td>4.7</td>\n",
              "      <td>87510</td>\n",
              "      <td>8.7M</td>\n",
              "      <td>5,000,000+</td>\n",
              "      <td>Free</td>\n",
              "      <td>0</td>\n",
              "      <td>Everyone</td>\n",
              "      <td>Art &amp; Design</td>\n",
              "      <td>August 1, 2018</td>\n",
              "      <td>1.2.4</td>\n",
              "      <td>4.0.3 and up</td>\n",
              "    </tr>\n",
              "    <tr>\n",
              "      <th>3</th>\n",
              "      <td>Sketch - Draw &amp; Paint</td>\n",
              "      <td>ART_AND_DESIGN</td>\n",
              "      <td>4.5</td>\n",
              "      <td>215644</td>\n",
              "      <td>25M</td>\n",
              "      <td>50,000,000+</td>\n",
              "      <td>Free</td>\n",
              "      <td>0</td>\n",
              "      <td>Teen</td>\n",
              "      <td>Art &amp; Design</td>\n",
              "      <td>June 8, 2018</td>\n",
              "      <td>Varies with device</td>\n",
              "      <td>4.2 and up</td>\n",
              "    </tr>\n",
              "    <tr>\n",
              "      <th>4</th>\n",
              "      <td>Pixel Draw - Number Art Coloring Book</td>\n",
              "      <td>ART_AND_DESIGN</td>\n",
              "      <td>4.3</td>\n",
              "      <td>967</td>\n",
              "      <td>2.8M</td>\n",
              "      <td>100,000+</td>\n",
              "      <td>Free</td>\n",
              "      <td>0</td>\n",
              "      <td>Everyone</td>\n",
              "      <td>Art &amp; Design;Creativity</td>\n",
              "      <td>June 20, 2018</td>\n",
              "      <td>1.1</td>\n",
              "      <td>4.4 and up</td>\n",
              "    </tr>\n",
              "  </tbody>\n",
              "</table>\n",
              "</div>"
            ],
            "text/plain": [
              "                                                 App  ...   Android Ver\n",
              "0     Photo Editor & Candy Camera & Grid & ScrapBook  ...  4.0.3 and up\n",
              "1                                Coloring book moana  ...  4.0.3 and up\n",
              "2  U Launcher Lite – FREE Live Cool Themes, Hide ...  ...  4.0.3 and up\n",
              "3                              Sketch - Draw & Paint  ...    4.2 and up\n",
              "4              Pixel Draw - Number Art Coloring Book  ...    4.4 and up\n",
              "\n",
              "[5 rows x 13 columns]"
            ]
          },
          "metadata": {},
          "execution_count": 3
        }
      ]
    },
    {
      "cell_type": "code",
      "metadata": {
        "colab": {
          "base_uri": "https://localhost:8080/"
        },
        "id": "K0nlUQOKYEg-",
        "outputId": "4b080b04-6598-45d2-c65a-3d2c3e945bc2"
      },
      "source": [
        "play_df.shape"
      ],
      "execution_count": 4,
      "outputs": [
        {
          "output_type": "execute_result",
          "data": {
            "text/plain": [
              "(10841, 13)"
            ]
          },
          "metadata": {},
          "execution_count": 4
        }
      ]
    },
    {
      "cell_type": "code",
      "metadata": {
        "colab": {
          "base_uri": "https://localhost:8080/",
          "height": 206
        },
        "id": "0RHv2b89YKfN",
        "outputId": "25722792-574e-4fd8-e323-314b426853e0"
      },
      "source": [
        "reviews_df.head()"
      ],
      "execution_count": 5,
      "outputs": [
        {
          "output_type": "execute_result",
          "data": {
            "text/html": [
              "<div>\n",
              "<style scoped>\n",
              "    .dataframe tbody tr th:only-of-type {\n",
              "        vertical-align: middle;\n",
              "    }\n",
              "\n",
              "    .dataframe tbody tr th {\n",
              "        vertical-align: top;\n",
              "    }\n",
              "\n",
              "    .dataframe thead th {\n",
              "        text-align: right;\n",
              "    }\n",
              "</style>\n",
              "<table border=\"1\" class=\"dataframe\">\n",
              "  <thead>\n",
              "    <tr style=\"text-align: right;\">\n",
              "      <th></th>\n",
              "      <th>App</th>\n",
              "      <th>Translated_Review</th>\n",
              "      <th>Sentiment</th>\n",
              "      <th>Sentiment_Polarity</th>\n",
              "      <th>Sentiment_Subjectivity</th>\n",
              "    </tr>\n",
              "  </thead>\n",
              "  <tbody>\n",
              "    <tr>\n",
              "      <th>0</th>\n",
              "      <td>10 Best Foods for You</td>\n",
              "      <td>I like eat delicious food. That's I'm cooking ...</td>\n",
              "      <td>Positive</td>\n",
              "      <td>1.00</td>\n",
              "      <td>0.533333</td>\n",
              "    </tr>\n",
              "    <tr>\n",
              "      <th>1</th>\n",
              "      <td>10 Best Foods for You</td>\n",
              "      <td>This help eating healthy exercise regular basis</td>\n",
              "      <td>Positive</td>\n",
              "      <td>0.25</td>\n",
              "      <td>0.288462</td>\n",
              "    </tr>\n",
              "    <tr>\n",
              "      <th>2</th>\n",
              "      <td>10 Best Foods for You</td>\n",
              "      <td>NaN</td>\n",
              "      <td>NaN</td>\n",
              "      <td>NaN</td>\n",
              "      <td>NaN</td>\n",
              "    </tr>\n",
              "    <tr>\n",
              "      <th>3</th>\n",
              "      <td>10 Best Foods for You</td>\n",
              "      <td>Works great especially going grocery store</td>\n",
              "      <td>Positive</td>\n",
              "      <td>0.40</td>\n",
              "      <td>0.875000</td>\n",
              "    </tr>\n",
              "    <tr>\n",
              "      <th>4</th>\n",
              "      <td>10 Best Foods for You</td>\n",
              "      <td>Best idea us</td>\n",
              "      <td>Positive</td>\n",
              "      <td>1.00</td>\n",
              "      <td>0.300000</td>\n",
              "    </tr>\n",
              "  </tbody>\n",
              "</table>\n",
              "</div>"
            ],
            "text/plain": [
              "                     App  ... Sentiment_Subjectivity\n",
              "0  10 Best Foods for You  ...               0.533333\n",
              "1  10 Best Foods for You  ...               0.288462\n",
              "2  10 Best Foods for You  ...                    NaN\n",
              "3  10 Best Foods for You  ...               0.875000\n",
              "4  10 Best Foods for You  ...               0.300000\n",
              "\n",
              "[5 rows x 5 columns]"
            ]
          },
          "metadata": {},
          "execution_count": 5
        }
      ]
    },
    {
      "cell_type": "code",
      "metadata": {
        "colab": {
          "base_uri": "https://localhost:8080/",
          "height": 423
        },
        "id": "dtnXIywfYO_s",
        "outputId": "ab692852-c0f5-4b23-cddb-16f648d3337f"
      },
      "source": [
        "#lets drop nan values from reviews dataframe which have no reviews\n",
        "reviews_df.drop(reviews_df[reviews_df['Translated_Review'].isna()].index,inplace=True)\n",
        "reviews_df"
      ],
      "execution_count": 6,
      "outputs": [
        {
          "output_type": "execute_result",
          "data": {
            "text/html": [
              "<div>\n",
              "<style scoped>\n",
              "    .dataframe tbody tr th:only-of-type {\n",
              "        vertical-align: middle;\n",
              "    }\n",
              "\n",
              "    .dataframe tbody tr th {\n",
              "        vertical-align: top;\n",
              "    }\n",
              "\n",
              "    .dataframe thead th {\n",
              "        text-align: right;\n",
              "    }\n",
              "</style>\n",
              "<table border=\"1\" class=\"dataframe\">\n",
              "  <thead>\n",
              "    <tr style=\"text-align: right;\">\n",
              "      <th></th>\n",
              "      <th>App</th>\n",
              "      <th>Translated_Review</th>\n",
              "      <th>Sentiment</th>\n",
              "      <th>Sentiment_Polarity</th>\n",
              "      <th>Sentiment_Subjectivity</th>\n",
              "    </tr>\n",
              "  </thead>\n",
              "  <tbody>\n",
              "    <tr>\n",
              "      <th>0</th>\n",
              "      <td>10 Best Foods for You</td>\n",
              "      <td>I like eat delicious food. That's I'm cooking ...</td>\n",
              "      <td>Positive</td>\n",
              "      <td>1.000000</td>\n",
              "      <td>0.533333</td>\n",
              "    </tr>\n",
              "    <tr>\n",
              "      <th>1</th>\n",
              "      <td>10 Best Foods for You</td>\n",
              "      <td>This help eating healthy exercise regular basis</td>\n",
              "      <td>Positive</td>\n",
              "      <td>0.250000</td>\n",
              "      <td>0.288462</td>\n",
              "    </tr>\n",
              "    <tr>\n",
              "      <th>3</th>\n",
              "      <td>10 Best Foods for You</td>\n",
              "      <td>Works great especially going grocery store</td>\n",
              "      <td>Positive</td>\n",
              "      <td>0.400000</td>\n",
              "      <td>0.875000</td>\n",
              "    </tr>\n",
              "    <tr>\n",
              "      <th>4</th>\n",
              "      <td>10 Best Foods for You</td>\n",
              "      <td>Best idea us</td>\n",
              "      <td>Positive</td>\n",
              "      <td>1.000000</td>\n",
              "      <td>0.300000</td>\n",
              "    </tr>\n",
              "    <tr>\n",
              "      <th>5</th>\n",
              "      <td>10 Best Foods for You</td>\n",
              "      <td>Best way</td>\n",
              "      <td>Positive</td>\n",
              "      <td>1.000000</td>\n",
              "      <td>0.300000</td>\n",
              "    </tr>\n",
              "    <tr>\n",
              "      <th>...</th>\n",
              "      <td>...</td>\n",
              "      <td>...</td>\n",
              "      <td>...</td>\n",
              "      <td>...</td>\n",
              "      <td>...</td>\n",
              "    </tr>\n",
              "    <tr>\n",
              "      <th>64222</th>\n",
              "      <td>Housing-Real Estate &amp; Property</td>\n",
              "      <td>Most ads older many agents ..not much owner po...</td>\n",
              "      <td>Positive</td>\n",
              "      <td>0.173333</td>\n",
              "      <td>0.486667</td>\n",
              "    </tr>\n",
              "    <tr>\n",
              "      <th>64223</th>\n",
              "      <td>Housing-Real Estate &amp; Property</td>\n",
              "      <td>If photos posted portal load, fit purpose. I'm...</td>\n",
              "      <td>Positive</td>\n",
              "      <td>0.225000</td>\n",
              "      <td>0.447222</td>\n",
              "    </tr>\n",
              "    <tr>\n",
              "      <th>64226</th>\n",
              "      <td>Housing-Real Estate &amp; Property</td>\n",
              "      <td>Dumb app, I wanted post property rent give opt...</td>\n",
              "      <td>Negative</td>\n",
              "      <td>-0.287500</td>\n",
              "      <td>0.250000</td>\n",
              "    </tr>\n",
              "    <tr>\n",
              "      <th>64227</th>\n",
              "      <td>Housing-Real Estate &amp; Property</td>\n",
              "      <td>I property business got link SMS happy perform...</td>\n",
              "      <td>Positive</td>\n",
              "      <td>0.800000</td>\n",
              "      <td>1.000000</td>\n",
              "    </tr>\n",
              "    <tr>\n",
              "      <th>64230</th>\n",
              "      <td>Housing-Real Estate &amp; Property</td>\n",
              "      <td>Useless app, I searched flats kondapur, Hydera...</td>\n",
              "      <td>Negative</td>\n",
              "      <td>-0.316667</td>\n",
              "      <td>0.400000</td>\n",
              "    </tr>\n",
              "  </tbody>\n",
              "</table>\n",
              "<p>37427 rows × 5 columns</p>\n",
              "</div>"
            ],
            "text/plain": [
              "                                  App  ... Sentiment_Subjectivity\n",
              "0               10 Best Foods for You  ...               0.533333\n",
              "1               10 Best Foods for You  ...               0.288462\n",
              "3               10 Best Foods for You  ...               0.875000\n",
              "4               10 Best Foods for You  ...               0.300000\n",
              "5               10 Best Foods for You  ...               0.300000\n",
              "...                               ...  ...                    ...\n",
              "64222  Housing-Real Estate & Property  ...               0.486667\n",
              "64223  Housing-Real Estate & Property  ...               0.447222\n",
              "64226  Housing-Real Estate & Property  ...               0.250000\n",
              "64227  Housing-Real Estate & Property  ...               1.000000\n",
              "64230  Housing-Real Estate & Property  ...               0.400000\n",
              "\n",
              "[37427 rows x 5 columns]"
            ]
          },
          "metadata": {},
          "execution_count": 6
        }
      ]
    },
    {
      "cell_type": "code",
      "metadata": {
        "colab": {
          "base_uri": "https://localhost:8080/",
          "height": 397
        },
        "id": "vlssBHKfYaws",
        "outputId": "8de53054-d6dd-43f6-965e-e0466b915e9b"
      },
      "source": [
        "#Lets merge two dataframes\n",
        "combined_df = pd.merge(play_df,reviews_df,how='inner',left_on='App',right_on='App')\n",
        "combined_df.head()"
      ],
      "execution_count": 7,
      "outputs": [
        {
          "output_type": "execute_result",
          "data": {
            "text/html": [
              "<div>\n",
              "<style scoped>\n",
              "    .dataframe tbody tr th:only-of-type {\n",
              "        vertical-align: middle;\n",
              "    }\n",
              "\n",
              "    .dataframe tbody tr th {\n",
              "        vertical-align: top;\n",
              "    }\n",
              "\n",
              "    .dataframe thead th {\n",
              "        text-align: right;\n",
              "    }\n",
              "</style>\n",
              "<table border=\"1\" class=\"dataframe\">\n",
              "  <thead>\n",
              "    <tr style=\"text-align: right;\">\n",
              "      <th></th>\n",
              "      <th>App</th>\n",
              "      <th>Category</th>\n",
              "      <th>Rating</th>\n",
              "      <th>Reviews</th>\n",
              "      <th>Size</th>\n",
              "      <th>Installs</th>\n",
              "      <th>Type</th>\n",
              "      <th>Price</th>\n",
              "      <th>Content Rating</th>\n",
              "      <th>Genres</th>\n",
              "      <th>Last Updated</th>\n",
              "      <th>Current Ver</th>\n",
              "      <th>Android Ver</th>\n",
              "      <th>Translated_Review</th>\n",
              "      <th>Sentiment</th>\n",
              "      <th>Sentiment_Polarity</th>\n",
              "      <th>Sentiment_Subjectivity</th>\n",
              "    </tr>\n",
              "  </thead>\n",
              "  <tbody>\n",
              "    <tr>\n",
              "      <th>0</th>\n",
              "      <td>Coloring book moana</td>\n",
              "      <td>ART_AND_DESIGN</td>\n",
              "      <td>3.9</td>\n",
              "      <td>967</td>\n",
              "      <td>14M</td>\n",
              "      <td>500,000+</td>\n",
              "      <td>Free</td>\n",
              "      <td>0</td>\n",
              "      <td>Everyone</td>\n",
              "      <td>Art &amp; Design;Pretend Play</td>\n",
              "      <td>January 15, 2018</td>\n",
              "      <td>2.0.0</td>\n",
              "      <td>4.0.3 and up</td>\n",
              "      <td>A kid's excessive ads. The types ads allowed a...</td>\n",
              "      <td>Negative</td>\n",
              "      <td>-0.250</td>\n",
              "      <td>1.000000</td>\n",
              "    </tr>\n",
              "    <tr>\n",
              "      <th>1</th>\n",
              "      <td>Coloring book moana</td>\n",
              "      <td>ART_AND_DESIGN</td>\n",
              "      <td>3.9</td>\n",
              "      <td>967</td>\n",
              "      <td>14M</td>\n",
              "      <td>500,000+</td>\n",
              "      <td>Free</td>\n",
              "      <td>0</td>\n",
              "      <td>Everyone</td>\n",
              "      <td>Art &amp; Design;Pretend Play</td>\n",
              "      <td>January 15, 2018</td>\n",
              "      <td>2.0.0</td>\n",
              "      <td>4.0.3 and up</td>\n",
              "      <td>It bad &gt;:(</td>\n",
              "      <td>Negative</td>\n",
              "      <td>-0.725</td>\n",
              "      <td>0.833333</td>\n",
              "    </tr>\n",
              "    <tr>\n",
              "      <th>2</th>\n",
              "      <td>Coloring book moana</td>\n",
              "      <td>ART_AND_DESIGN</td>\n",
              "      <td>3.9</td>\n",
              "      <td>967</td>\n",
              "      <td>14M</td>\n",
              "      <td>500,000+</td>\n",
              "      <td>Free</td>\n",
              "      <td>0</td>\n",
              "      <td>Everyone</td>\n",
              "      <td>Art &amp; Design;Pretend Play</td>\n",
              "      <td>January 15, 2018</td>\n",
              "      <td>2.0.0</td>\n",
              "      <td>4.0.3 and up</td>\n",
              "      <td>like</td>\n",
              "      <td>Neutral</td>\n",
              "      <td>0.000</td>\n",
              "      <td>0.000000</td>\n",
              "    </tr>\n",
              "    <tr>\n",
              "      <th>3</th>\n",
              "      <td>Coloring book moana</td>\n",
              "      <td>ART_AND_DESIGN</td>\n",
              "      <td>3.9</td>\n",
              "      <td>967</td>\n",
              "      <td>14M</td>\n",
              "      <td>500,000+</td>\n",
              "      <td>Free</td>\n",
              "      <td>0</td>\n",
              "      <td>Everyone</td>\n",
              "      <td>Art &amp; Design;Pretend Play</td>\n",
              "      <td>January 15, 2018</td>\n",
              "      <td>2.0.0</td>\n",
              "      <td>4.0.3 and up</td>\n",
              "      <td>I love colors inspyering</td>\n",
              "      <td>Positive</td>\n",
              "      <td>0.500</td>\n",
              "      <td>0.600000</td>\n",
              "    </tr>\n",
              "    <tr>\n",
              "      <th>4</th>\n",
              "      <td>Coloring book moana</td>\n",
              "      <td>ART_AND_DESIGN</td>\n",
              "      <td>3.9</td>\n",
              "      <td>967</td>\n",
              "      <td>14M</td>\n",
              "      <td>500,000+</td>\n",
              "      <td>Free</td>\n",
              "      <td>0</td>\n",
              "      <td>Everyone</td>\n",
              "      <td>Art &amp; Design;Pretend Play</td>\n",
              "      <td>January 15, 2018</td>\n",
              "      <td>2.0.0</td>\n",
              "      <td>4.0.3 and up</td>\n",
              "      <td>I hate</td>\n",
              "      <td>Negative</td>\n",
              "      <td>-0.800</td>\n",
              "      <td>0.900000</td>\n",
              "    </tr>\n",
              "  </tbody>\n",
              "</table>\n",
              "</div>"
            ],
            "text/plain": [
              "                   App  ... Sentiment_Subjectivity\n",
              "0  Coloring book moana  ...               1.000000\n",
              "1  Coloring book moana  ...               0.833333\n",
              "2  Coloring book moana  ...               0.000000\n",
              "3  Coloring book moana  ...               0.600000\n",
              "4  Coloring book moana  ...               0.900000\n",
              "\n",
              "[5 rows x 17 columns]"
            ]
          },
          "metadata": {},
          "execution_count": 7
        }
      ]
    },
    {
      "cell_type": "code",
      "metadata": {
        "colab": {
          "base_uri": "https://localhost:8080/"
        },
        "id": "4Ac-Qrltgkri",
        "outputId": "bc6d9e7e-7907-4a77-9a0c-31619943ec67"
      },
      "source": [
        "combined_df.info()"
      ],
      "execution_count": 8,
      "outputs": [
        {
          "output_type": "stream",
          "name": "stdout",
          "text": [
            "<class 'pandas.core.frame.DataFrame'>\n",
            "Int64Index: 72605 entries, 0 to 72604\n",
            "Data columns (total 17 columns):\n",
            " #   Column                  Non-Null Count  Dtype  \n",
            "---  ------                  --------------  -----  \n",
            " 0   App                     72605 non-null  object \n",
            " 1   Category                72605 non-null  object \n",
            " 2   Rating                  72566 non-null  float64\n",
            " 3   Reviews                 72605 non-null  object \n",
            " 4   Size                    72605 non-null  object \n",
            " 5   Installs                72605 non-null  object \n",
            " 6   Type                    72605 non-null  object \n",
            " 7   Price                   72605 non-null  object \n",
            " 8   Content Rating          72605 non-null  object \n",
            " 9   Genres                  72605 non-null  object \n",
            " 10  Last Updated            72605 non-null  object \n",
            " 11  Current Ver             72605 non-null  object \n",
            " 12  Android Ver             72605 non-null  object \n",
            " 13  Translated_Review       72605 non-null  object \n",
            " 14  Sentiment               72605 non-null  object \n",
            " 15  Sentiment_Polarity      72605 non-null  float64\n",
            " 16  Sentiment_Subjectivity  72605 non-null  float64\n",
            "dtypes: float64(3), object(14)\n",
            "memory usage: 10.0+ MB\n"
          ]
        }
      ]
    },
    {
      "cell_type": "code",
      "metadata": {
        "colab": {
          "base_uri": "https://localhost:8080/"
        },
        "id": "Yx_Xjit4grSm",
        "outputId": "bcf952ca-3ad6-426a-a2a6-5ff2fb62ef22"
      },
      "source": [
        "combined_df.columns"
      ],
      "execution_count": 9,
      "outputs": [
        {
          "output_type": "execute_result",
          "data": {
            "text/plain": [
              "Index(['App', 'Category', 'Rating', 'Reviews', 'Size', 'Installs', 'Type',\n",
              "       'Price', 'Content Rating', 'Genres', 'Last Updated', 'Current Ver',\n",
              "       'Android Ver', 'Translated_Review', 'Sentiment', 'Sentiment_Polarity',\n",
              "       'Sentiment_Subjectivity'],\n",
              "      dtype='object')"
            ]
          },
          "metadata": {},
          "execution_count": 9
        }
      ]
    },
    {
      "cell_type": "markdown",
      "metadata": {
        "id": "Km4M6FHfg82G"
      },
      "source": [
        "# Data Preprocessing"
      ]
    },
    {
      "cell_type": "code",
      "metadata": {
        "colab": {
          "base_uri": "https://localhost:8080/",
          "height": 397
        },
        "id": "wokH07MOg-2W",
        "outputId": "4e1c6e8d-15f9-4962-ba36-275789990ec2"
      },
      "source": [
        "# So in the size column we can see we have values with M and K so lets replace them with their equivalent value with respect to k and convert into float\n",
        "combined_df['Size']=combined_df['Size'].str.replace('M','000')\n",
        "combined_df['Size']=combined_df['Size'].str.replace('k','')\n",
        "\n",
        "#apps['size']=apps['size'].str.replace('.','')\n",
        "combined_df['Size']=combined_df['Size'].replace(\"Varies with device\",np.nan)\n",
        "combined_df['Size']=combined_df['Size'].astype('float')\n",
        "combined_df.head(5)"
      ],
      "execution_count": 10,
      "outputs": [
        {
          "output_type": "execute_result",
          "data": {
            "text/html": [
              "<div>\n",
              "<style scoped>\n",
              "    .dataframe tbody tr th:only-of-type {\n",
              "        vertical-align: middle;\n",
              "    }\n",
              "\n",
              "    .dataframe tbody tr th {\n",
              "        vertical-align: top;\n",
              "    }\n",
              "\n",
              "    .dataframe thead th {\n",
              "        text-align: right;\n",
              "    }\n",
              "</style>\n",
              "<table border=\"1\" class=\"dataframe\">\n",
              "  <thead>\n",
              "    <tr style=\"text-align: right;\">\n",
              "      <th></th>\n",
              "      <th>App</th>\n",
              "      <th>Category</th>\n",
              "      <th>Rating</th>\n",
              "      <th>Reviews</th>\n",
              "      <th>Size</th>\n",
              "      <th>Installs</th>\n",
              "      <th>Type</th>\n",
              "      <th>Price</th>\n",
              "      <th>Content Rating</th>\n",
              "      <th>Genres</th>\n",
              "      <th>Last Updated</th>\n",
              "      <th>Current Ver</th>\n",
              "      <th>Android Ver</th>\n",
              "      <th>Translated_Review</th>\n",
              "      <th>Sentiment</th>\n",
              "      <th>Sentiment_Polarity</th>\n",
              "      <th>Sentiment_Subjectivity</th>\n",
              "    </tr>\n",
              "  </thead>\n",
              "  <tbody>\n",
              "    <tr>\n",
              "      <th>0</th>\n",
              "      <td>Coloring book moana</td>\n",
              "      <td>ART_AND_DESIGN</td>\n",
              "      <td>3.9</td>\n",
              "      <td>967</td>\n",
              "      <td>14000.0</td>\n",
              "      <td>500,000+</td>\n",
              "      <td>Free</td>\n",
              "      <td>0</td>\n",
              "      <td>Everyone</td>\n",
              "      <td>Art &amp; Design;Pretend Play</td>\n",
              "      <td>January 15, 2018</td>\n",
              "      <td>2.0.0</td>\n",
              "      <td>4.0.3 and up</td>\n",
              "      <td>A kid's excessive ads. The types ads allowed a...</td>\n",
              "      <td>Negative</td>\n",
              "      <td>-0.250</td>\n",
              "      <td>1.000000</td>\n",
              "    </tr>\n",
              "    <tr>\n",
              "      <th>1</th>\n",
              "      <td>Coloring book moana</td>\n",
              "      <td>ART_AND_DESIGN</td>\n",
              "      <td>3.9</td>\n",
              "      <td>967</td>\n",
              "      <td>14000.0</td>\n",
              "      <td>500,000+</td>\n",
              "      <td>Free</td>\n",
              "      <td>0</td>\n",
              "      <td>Everyone</td>\n",
              "      <td>Art &amp; Design;Pretend Play</td>\n",
              "      <td>January 15, 2018</td>\n",
              "      <td>2.0.0</td>\n",
              "      <td>4.0.3 and up</td>\n",
              "      <td>It bad &gt;:(</td>\n",
              "      <td>Negative</td>\n",
              "      <td>-0.725</td>\n",
              "      <td>0.833333</td>\n",
              "    </tr>\n",
              "    <tr>\n",
              "      <th>2</th>\n",
              "      <td>Coloring book moana</td>\n",
              "      <td>ART_AND_DESIGN</td>\n",
              "      <td>3.9</td>\n",
              "      <td>967</td>\n",
              "      <td>14000.0</td>\n",
              "      <td>500,000+</td>\n",
              "      <td>Free</td>\n",
              "      <td>0</td>\n",
              "      <td>Everyone</td>\n",
              "      <td>Art &amp; Design;Pretend Play</td>\n",
              "      <td>January 15, 2018</td>\n",
              "      <td>2.0.0</td>\n",
              "      <td>4.0.3 and up</td>\n",
              "      <td>like</td>\n",
              "      <td>Neutral</td>\n",
              "      <td>0.000</td>\n",
              "      <td>0.000000</td>\n",
              "    </tr>\n",
              "    <tr>\n",
              "      <th>3</th>\n",
              "      <td>Coloring book moana</td>\n",
              "      <td>ART_AND_DESIGN</td>\n",
              "      <td>3.9</td>\n",
              "      <td>967</td>\n",
              "      <td>14000.0</td>\n",
              "      <td>500,000+</td>\n",
              "      <td>Free</td>\n",
              "      <td>0</td>\n",
              "      <td>Everyone</td>\n",
              "      <td>Art &amp; Design;Pretend Play</td>\n",
              "      <td>January 15, 2018</td>\n",
              "      <td>2.0.0</td>\n",
              "      <td>4.0.3 and up</td>\n",
              "      <td>I love colors inspyering</td>\n",
              "      <td>Positive</td>\n",
              "      <td>0.500</td>\n",
              "      <td>0.600000</td>\n",
              "    </tr>\n",
              "    <tr>\n",
              "      <th>4</th>\n",
              "      <td>Coloring book moana</td>\n",
              "      <td>ART_AND_DESIGN</td>\n",
              "      <td>3.9</td>\n",
              "      <td>967</td>\n",
              "      <td>14000.0</td>\n",
              "      <td>500,000+</td>\n",
              "      <td>Free</td>\n",
              "      <td>0</td>\n",
              "      <td>Everyone</td>\n",
              "      <td>Art &amp; Design;Pretend Play</td>\n",
              "      <td>January 15, 2018</td>\n",
              "      <td>2.0.0</td>\n",
              "      <td>4.0.3 and up</td>\n",
              "      <td>I hate</td>\n",
              "      <td>Negative</td>\n",
              "      <td>-0.800</td>\n",
              "      <td>0.900000</td>\n",
              "    </tr>\n",
              "  </tbody>\n",
              "</table>\n",
              "</div>"
            ],
            "text/plain": [
              "                   App  ... Sentiment_Subjectivity\n",
              "0  Coloring book moana  ...               1.000000\n",
              "1  Coloring book moana  ...               0.833333\n",
              "2  Coloring book moana  ...               0.000000\n",
              "3  Coloring book moana  ...               0.600000\n",
              "4  Coloring book moana  ...               0.900000\n",
              "\n",
              "[5 rows x 17 columns]"
            ]
          },
          "metadata": {},
          "execution_count": 10
        }
      ]
    },
    {
      "cell_type": "code",
      "metadata": {
        "id": "YdLWuCAAiych"
      },
      "source": [
        "# Lets clean the Installs and Price columns as these have +, ',' ,$ present which can be treated as string. Then we will convert the last updated column to date format\n",
        "combined_df['Installs'] = combined_df['Installs'].str.replace('+','')\n",
        "combined_df['Installs'] = combined_df['Installs'].str.replace(',','')\n",
        "combined_df['Installs'] = combined_df['Installs'].astype(int)\n",
        "combined_df['Reviews'] = combined_df['Reviews'].astype(int)\n",
        "combined_df['Price'] = combined_df['Price'].str.replace('$','')\n",
        "combined_df['Price'] = combined_df['Price'].astype(float)\n",
        "combined_df['Last Updated'] = pd.to_datetime(combined_df['Last Updated'])\n"
      ],
      "execution_count": 11,
      "outputs": []
    },
    {
      "cell_type": "code",
      "metadata": {
        "colab": {
          "base_uri": "https://localhost:8080/",
          "height": 397
        },
        "id": "UMM1lyWRpfLn",
        "outputId": "3c907a76-2468-4e98-e813-2d2106c35723"
      },
      "source": [
        "combined_df.head()"
      ],
      "execution_count": 12,
      "outputs": [
        {
          "output_type": "execute_result",
          "data": {
            "text/html": [
              "<div>\n",
              "<style scoped>\n",
              "    .dataframe tbody tr th:only-of-type {\n",
              "        vertical-align: middle;\n",
              "    }\n",
              "\n",
              "    .dataframe tbody tr th {\n",
              "        vertical-align: top;\n",
              "    }\n",
              "\n",
              "    .dataframe thead th {\n",
              "        text-align: right;\n",
              "    }\n",
              "</style>\n",
              "<table border=\"1\" class=\"dataframe\">\n",
              "  <thead>\n",
              "    <tr style=\"text-align: right;\">\n",
              "      <th></th>\n",
              "      <th>App</th>\n",
              "      <th>Category</th>\n",
              "      <th>Rating</th>\n",
              "      <th>Reviews</th>\n",
              "      <th>Size</th>\n",
              "      <th>Installs</th>\n",
              "      <th>Type</th>\n",
              "      <th>Price</th>\n",
              "      <th>Content Rating</th>\n",
              "      <th>Genres</th>\n",
              "      <th>Last Updated</th>\n",
              "      <th>Current Ver</th>\n",
              "      <th>Android Ver</th>\n",
              "      <th>Translated_Review</th>\n",
              "      <th>Sentiment</th>\n",
              "      <th>Sentiment_Polarity</th>\n",
              "      <th>Sentiment_Subjectivity</th>\n",
              "    </tr>\n",
              "  </thead>\n",
              "  <tbody>\n",
              "    <tr>\n",
              "      <th>0</th>\n",
              "      <td>Coloring book moana</td>\n",
              "      <td>ART_AND_DESIGN</td>\n",
              "      <td>3.9</td>\n",
              "      <td>967</td>\n",
              "      <td>14000.0</td>\n",
              "      <td>500000</td>\n",
              "      <td>Free</td>\n",
              "      <td>0.0</td>\n",
              "      <td>Everyone</td>\n",
              "      <td>Art &amp; Design;Pretend Play</td>\n",
              "      <td>2018-01-15</td>\n",
              "      <td>2.0.0</td>\n",
              "      <td>4.0.3 and up</td>\n",
              "      <td>A kid's excessive ads. The types ads allowed a...</td>\n",
              "      <td>Negative</td>\n",
              "      <td>-0.250</td>\n",
              "      <td>1.000000</td>\n",
              "    </tr>\n",
              "    <tr>\n",
              "      <th>1</th>\n",
              "      <td>Coloring book moana</td>\n",
              "      <td>ART_AND_DESIGN</td>\n",
              "      <td>3.9</td>\n",
              "      <td>967</td>\n",
              "      <td>14000.0</td>\n",
              "      <td>500000</td>\n",
              "      <td>Free</td>\n",
              "      <td>0.0</td>\n",
              "      <td>Everyone</td>\n",
              "      <td>Art &amp; Design;Pretend Play</td>\n",
              "      <td>2018-01-15</td>\n",
              "      <td>2.0.0</td>\n",
              "      <td>4.0.3 and up</td>\n",
              "      <td>It bad &gt;:(</td>\n",
              "      <td>Negative</td>\n",
              "      <td>-0.725</td>\n",
              "      <td>0.833333</td>\n",
              "    </tr>\n",
              "    <tr>\n",
              "      <th>2</th>\n",
              "      <td>Coloring book moana</td>\n",
              "      <td>ART_AND_DESIGN</td>\n",
              "      <td>3.9</td>\n",
              "      <td>967</td>\n",
              "      <td>14000.0</td>\n",
              "      <td>500000</td>\n",
              "      <td>Free</td>\n",
              "      <td>0.0</td>\n",
              "      <td>Everyone</td>\n",
              "      <td>Art &amp; Design;Pretend Play</td>\n",
              "      <td>2018-01-15</td>\n",
              "      <td>2.0.0</td>\n",
              "      <td>4.0.3 and up</td>\n",
              "      <td>like</td>\n",
              "      <td>Neutral</td>\n",
              "      <td>0.000</td>\n",
              "      <td>0.000000</td>\n",
              "    </tr>\n",
              "    <tr>\n",
              "      <th>3</th>\n",
              "      <td>Coloring book moana</td>\n",
              "      <td>ART_AND_DESIGN</td>\n",
              "      <td>3.9</td>\n",
              "      <td>967</td>\n",
              "      <td>14000.0</td>\n",
              "      <td>500000</td>\n",
              "      <td>Free</td>\n",
              "      <td>0.0</td>\n",
              "      <td>Everyone</td>\n",
              "      <td>Art &amp; Design;Pretend Play</td>\n",
              "      <td>2018-01-15</td>\n",
              "      <td>2.0.0</td>\n",
              "      <td>4.0.3 and up</td>\n",
              "      <td>I love colors inspyering</td>\n",
              "      <td>Positive</td>\n",
              "      <td>0.500</td>\n",
              "      <td>0.600000</td>\n",
              "    </tr>\n",
              "    <tr>\n",
              "      <th>4</th>\n",
              "      <td>Coloring book moana</td>\n",
              "      <td>ART_AND_DESIGN</td>\n",
              "      <td>3.9</td>\n",
              "      <td>967</td>\n",
              "      <td>14000.0</td>\n",
              "      <td>500000</td>\n",
              "      <td>Free</td>\n",
              "      <td>0.0</td>\n",
              "      <td>Everyone</td>\n",
              "      <td>Art &amp; Design;Pretend Play</td>\n",
              "      <td>2018-01-15</td>\n",
              "      <td>2.0.0</td>\n",
              "      <td>4.0.3 and up</td>\n",
              "      <td>I hate</td>\n",
              "      <td>Negative</td>\n",
              "      <td>-0.800</td>\n",
              "      <td>0.900000</td>\n",
              "    </tr>\n",
              "  </tbody>\n",
              "</table>\n",
              "</div>"
            ],
            "text/plain": [
              "                   App  ... Sentiment_Subjectivity\n",
              "0  Coloring book moana  ...               1.000000\n",
              "1  Coloring book moana  ...               0.833333\n",
              "2  Coloring book moana  ...               0.000000\n",
              "3  Coloring book moana  ...               0.600000\n",
              "4  Coloring book moana  ...               0.900000\n",
              "\n",
              "[5 rows x 17 columns]"
            ]
          },
          "metadata": {},
          "execution_count": 12
        }
      ]
    },
    {
      "cell_type": "code",
      "metadata": {
        "colab": {
          "base_uri": "https://localhost:8080/"
        },
        "id": "A3mgyZR0G0tO",
        "outputId": "378b40f5-885d-42dd-9674-69b6d476130e"
      },
      "source": [
        "combined_df.info()"
      ],
      "execution_count": 13,
      "outputs": [
        {
          "output_type": "stream",
          "name": "stdout",
          "text": [
            "<class 'pandas.core.frame.DataFrame'>\n",
            "Int64Index: 72605 entries, 0 to 72604\n",
            "Data columns (total 17 columns):\n",
            " #   Column                  Non-Null Count  Dtype         \n",
            "---  ------                  --------------  -----         \n",
            " 0   App                     72605 non-null  object        \n",
            " 1   Category                72605 non-null  object        \n",
            " 2   Rating                  72566 non-null  float64       \n",
            " 3   Reviews                 72605 non-null  int64         \n",
            " 4   Size                    45046 non-null  float64       \n",
            " 5   Installs                72605 non-null  int64         \n",
            " 6   Type                    72605 non-null  object        \n",
            " 7   Price                   72605 non-null  float64       \n",
            " 8   Content Rating          72605 non-null  object        \n",
            " 9   Genres                  72605 non-null  object        \n",
            " 10  Last Updated            72605 non-null  datetime64[ns]\n",
            " 11  Current Ver             72605 non-null  object        \n",
            " 12  Android Ver             72605 non-null  object        \n",
            " 13  Translated_Review       72605 non-null  object        \n",
            " 14  Sentiment               72605 non-null  object        \n",
            " 15  Sentiment_Polarity      72605 non-null  float64       \n",
            " 16  Sentiment_Subjectivity  72605 non-null  float64       \n",
            "dtypes: datetime64[ns](1), float64(5), int64(2), object(9)\n",
            "memory usage: 10.0+ MB\n"
          ]
        }
      ]
    },
    {
      "cell_type": "code",
      "metadata": {
        "colab": {
          "base_uri": "https://localhost:8080/"
        },
        "id": "2c3P63mmG10m",
        "outputId": "544f2d94-19c5-461e-9dd0-adb20c81654e"
      },
      "source": [
        "# Number of apps per categories\n",
        "combined_df['Category'].value_counts()"
      ],
      "execution_count": 14,
      "outputs": [
        {
          "output_type": "execute_result",
          "data": {
            "text/plain": [
              "GAME                   19125\n",
              "FAMILY                  5910\n",
              "HEALTH_AND_FITNESS      4503\n",
              "SPORTS                  3504\n",
              "DATING                  3198\n",
              "PRODUCTIVITY            3121\n",
              "TRAVEL_AND_LOCAL        3101\n",
              "PHOTOGRAPHY             2480\n",
              "ENTERTAINMENT           2433\n",
              "BUSINESS                2347\n",
              "MEDICAL                 2211\n",
              "NEWS_AND_MAGAZINES      2204\n",
              "SHOPPING                2026\n",
              "FINANCE                 2009\n",
              "COMMUNICATION           1949\n",
              "TOOLS                   1794\n",
              "EDUCATION               1694\n",
              "SOCIAL                  1398\n",
              "LIFESTYLE               1332\n",
              "PERSONALIZATION         1312\n",
              "FOOD_AND_DRINK           846\n",
              "BOOKS_AND_REFERENCE      815\n",
              "HOUSE_AND_HOME           697\n",
              "ART_AND_DESIGN           382\n",
              "BEAUTY                   338\n",
              "LIBRARIES_AND_DEMO       333\n",
              "VIDEO_PLAYERS            331\n",
              "AUTO_AND_VEHICLES        289\n",
              "PARENTING                260\n",
              "WEATHER                  233\n",
              "MAPS_AND_NAVIGATION      192\n",
              "EVENTS                   158\n",
              "COMICS                    80\n",
              "Name: Category, dtype: int64"
            ]
          },
          "metadata": {},
          "execution_count": 14
        }
      ]
    },
    {
      "cell_type": "code",
      "metadata": {
        "colab": {
          "base_uri": "https://localhost:8080/",
          "height": 539
        },
        "id": "tQnbt2K1_oVz",
        "outputId": "bc32048a-19c9-4b84-a673-eaafd9a77e24"
      },
      "source": [
        "fig = plt.figure(figsize =(12,6))\n",
        "combined_df['Category'].value_counts().plot(kind='bar')\n",
        "plt.ylabel('No. of Apps')\n",
        "plt.xlabel('Category')\n",
        "plt.title('Number of Apps per cateory')\n",
        "# plt.savefig('plot.png', dpi=300, bbox_inches='tight')"
      ],
      "execution_count": 15,
      "outputs": [
        {
          "output_type": "execute_result",
          "data": {
            "text/plain": [
              "Text(0.5, 1.0, 'Number of Apps per cateory')"
            ]
          },
          "metadata": {},
          "execution_count": 15
        },
        {
          "output_type": "display_data",
          "data": {
            "image/png": "[encoded data removed]",
            "text/plain": [
              "<Figure size 864x432 with 1 Axes>"
            ]
          },
          "metadata": {
            "needs_background": "light"
          }
        }
      ]
    },
    {
      "cell_type": "code",
      "metadata": {
        "colab": {
          "base_uri": "https://localhost:8080/"
        },
        "id": "m74EcMQCG_aI",
        "outputId": "ad913dca-4041-4bfd-9818-b3f9b84f81bb"
      },
      "source": [
        "# Average rating for every category\n",
        "combined_df.groupby('Category').Rating.agg('mean')"
      ],
      "execution_count": 16,
      "outputs": [
        {
          "output_type": "execute_result",
          "data": {
            "text/plain": [
              "Category\n",
              "ART_AND_DESIGN         4.303141\n",
              "AUTO_AND_VEHICLES      4.577855\n",
              "BEAUTY                 4.248817\n",
              "BOOKS_AND_REFERENCE    4.327853\n",
              "BUSINESS               4.273157\n",
              "COMICS                 4.262500\n",
              "COMMUNICATION          4.226424\n",
              "DATING                 4.116667\n",
              "EDUCATION              4.486954\n",
              "ENTERTAINMENT          4.028607\n",
              "EVENTS                 4.336076\n",
              "FAMILY                 4.380017\n",
              "FINANCE                4.262817\n",
              "FOOD_AND_DRINK         4.418676\n",
              "GAME                   4.460444\n",
              "HEALTH_AND_FITNESS     4.423118\n",
              "HOUSE_AND_HOME         4.208321\n",
              "LIBRARIES_AND_DEMO     4.057057\n",
              "LIFESTYLE              4.126502\n",
              "MAPS_AND_NAVIGATION    4.323958\n",
              "MEDICAL                4.163950\n",
              "NEWS_AND_MAGAZINES     4.177132\n",
              "PARENTING              4.250769\n",
              "PERSONALIZATION        4.327439\n",
              "PHOTOGRAPHY            4.378911\n",
              "PRODUCTIVITY           4.395867\n",
              "SHOPPING               4.344965\n",
              "SOCIAL                 4.212947\n",
              "SPORTS                 4.275000\n",
              "TOOLS                  4.271628\n",
              "TRAVEL_AND_LOCAL       4.293099\n",
              "VIDEO_PLAYERS          4.241994\n",
              "WEATHER                4.281116\n",
              "Name: Rating, dtype: float64"
            ]
          },
          "metadata": {},
          "execution_count": 16
        }
      ]
    },
    {
      "cell_type": "code",
      "metadata": {
        "colab": {
          "base_uri": "https://localhost:8080/",
          "height": 1000
        },
        "id": "1z90fu3QMjVn",
        "outputId": "a5dcb528-4b28-4ec1-fdbd-aa05cf632247"
      },
      "source": [
        "# Lowest and hightest rating of each category\n",
        "combined_df.groupby('Category').agg(min_rating_per_category = ('Rating','min'),max_rating_per_category = ('Rating','max')).reset_index()"
      ],
      "execution_count": 17,
      "outputs": [
        {
          "output_type": "execute_result",
          "data": {
            "text/html": [
              "<div>\n",
              "<style scoped>\n",
              "    .dataframe tbody tr th:only-of-type {\n",
              "        vertical-align: middle;\n",
              "    }\n",
              "\n",
              "    .dataframe tbody tr th {\n",
              "        vertical-align: top;\n",
              "    }\n",
              "\n",
              "    .dataframe thead th {\n",
              "        text-align: right;\n",
              "    }\n",
              "</style>\n",
              "<table border=\"1\" class=\"dataframe\">\n",
              "  <thead>\n",
              "    <tr style=\"text-align: right;\">\n",
              "      <th></th>\n",
              "      <th>Category</th>\n",
              "      <th>min_rating_per_category</th>\n",
              "      <th>max_rating_per_category</th>\n",
              "    </tr>\n",
              "  </thead>\n",
              "  <tbody>\n",
              "    <tr>\n",
              "      <th>0</th>\n",
              "      <td>ART_AND_DESIGN</td>\n",
              "      <td>3.9</td>\n",
              "      <td>4.7</td>\n",
              "    </tr>\n",
              "    <tr>\n",
              "      <th>1</th>\n",
              "      <td>AUTO_AND_VEHICLES</td>\n",
              "      <td>4.2</td>\n",
              "      <td>4.9</td>\n",
              "    </tr>\n",
              "    <tr>\n",
              "      <th>2</th>\n",
              "      <td>BEAUTY</td>\n",
              "      <td>3.9</td>\n",
              "      <td>4.6</td>\n",
              "    </tr>\n",
              "    <tr>\n",
              "      <th>3</th>\n",
              "      <td>BOOKS_AND_REFERENCE</td>\n",
              "      <td>3.5</td>\n",
              "      <td>4.7</td>\n",
              "    </tr>\n",
              "    <tr>\n",
              "      <th>4</th>\n",
              "      <td>BUSINESS</td>\n",
              "      <td>3.8</td>\n",
              "      <td>4.6</td>\n",
              "    </tr>\n",
              "    <tr>\n",
              "      <th>5</th>\n",
              "      <td>COMICS</td>\n",
              "      <td>4.2</td>\n",
              "      <td>4.7</td>\n",
              "    </tr>\n",
              "    <tr>\n",
              "      <th>6</th>\n",
              "      <td>COMMUNICATION</td>\n",
              "      <td>3.7</td>\n",
              "      <td>4.6</td>\n",
              "    </tr>\n",
              "    <tr>\n",
              "      <th>7</th>\n",
              "      <td>DATING</td>\n",
              "      <td>3.3</td>\n",
              "      <td>4.7</td>\n",
              "    </tr>\n",
              "    <tr>\n",
              "      <th>8</th>\n",
              "      <td>EDUCATION</td>\n",
              "      <td>3.5</td>\n",
              "      <td>4.7</td>\n",
              "    </tr>\n",
              "    <tr>\n",
              "      <th>9</th>\n",
              "      <td>ENTERTAINMENT</td>\n",
              "      <td>3.0</td>\n",
              "      <td>4.6</td>\n",
              "    </tr>\n",
              "    <tr>\n",
              "      <th>10</th>\n",
              "      <td>EVENTS</td>\n",
              "      <td>4.0</td>\n",
              "      <td>4.5</td>\n",
              "    </tr>\n",
              "    <tr>\n",
              "      <th>11</th>\n",
              "      <td>FAMILY</td>\n",
              "      <td>3.6</td>\n",
              "      <td>4.8</td>\n",
              "    </tr>\n",
              "    <tr>\n",
              "      <th>12</th>\n",
              "      <td>FINANCE</td>\n",
              "      <td>3.6</td>\n",
              "      <td>4.8</td>\n",
              "    </tr>\n",
              "    <tr>\n",
              "      <th>13</th>\n",
              "      <td>FOOD_AND_DRINK</td>\n",
              "      <td>3.6</td>\n",
              "      <td>4.7</td>\n",
              "    </tr>\n",
              "    <tr>\n",
              "      <th>14</th>\n",
              "      <td>GAME</td>\n",
              "      <td>3.4</td>\n",
              "      <td>4.7</td>\n",
              "    </tr>\n",
              "    <tr>\n",
              "      <th>15</th>\n",
              "      <td>HEALTH_AND_FITNESS</td>\n",
              "      <td>3.7</td>\n",
              "      <td>4.9</td>\n",
              "    </tr>\n",
              "    <tr>\n",
              "      <th>16</th>\n",
              "      <td>HOUSE_AND_HOME</td>\n",
              "      <td>3.4</td>\n",
              "      <td>4.7</td>\n",
              "    </tr>\n",
              "    <tr>\n",
              "      <th>17</th>\n",
              "      <td>LIBRARIES_AND_DEMO</td>\n",
              "      <td>3.1</td>\n",
              "      <td>4.6</td>\n",
              "    </tr>\n",
              "    <tr>\n",
              "      <th>18</th>\n",
              "      <td>LIFESTYLE</td>\n",
              "      <td>3.2</td>\n",
              "      <td>4.6</td>\n",
              "    </tr>\n",
              "    <tr>\n",
              "      <th>19</th>\n",
              "      <td>MAPS_AND_NAVIGATION</td>\n",
              "      <td>4.2</td>\n",
              "      <td>4.8</td>\n",
              "    </tr>\n",
              "    <tr>\n",
              "      <th>20</th>\n",
              "      <td>MEDICAL</td>\n",
              "      <td>2.6</td>\n",
              "      <td>4.8</td>\n",
              "    </tr>\n",
              "    <tr>\n",
              "      <th>21</th>\n",
              "      <td>NEWS_AND_MAGAZINES</td>\n",
              "      <td>3.7</td>\n",
              "      <td>4.7</td>\n",
              "    </tr>\n",
              "    <tr>\n",
              "      <th>22</th>\n",
              "      <td>PARENTING</td>\n",
              "      <td>4.0</td>\n",
              "      <td>4.7</td>\n",
              "    </tr>\n",
              "    <tr>\n",
              "      <th>23</th>\n",
              "      <td>PERSONALIZATION</td>\n",
              "      <td>3.9</td>\n",
              "      <td>4.7</td>\n",
              "    </tr>\n",
              "    <tr>\n",
              "      <th>24</th>\n",
              "      <td>PHOTOGRAPHY</td>\n",
              "      <td>3.8</td>\n",
              "      <td>4.8</td>\n",
              "    </tr>\n",
              "    <tr>\n",
              "      <th>25</th>\n",
              "      <td>PRODUCTIVITY</td>\n",
              "      <td>3.1</td>\n",
              "      <td>4.7</td>\n",
              "    </tr>\n",
              "    <tr>\n",
              "      <th>26</th>\n",
              "      <td>SHOPPING</td>\n",
              "      <td>3.8</td>\n",
              "      <td>4.7</td>\n",
              "    </tr>\n",
              "    <tr>\n",
              "      <th>27</th>\n",
              "      <td>SOCIAL</td>\n",
              "      <td>3.6</td>\n",
              "      <td>4.8</td>\n",
              "    </tr>\n",
              "    <tr>\n",
              "      <th>28</th>\n",
              "      <td>SPORTS</td>\n",
              "      <td>3.5</td>\n",
              "      <td>4.6</td>\n",
              "    </tr>\n",
              "    <tr>\n",
              "      <th>29</th>\n",
              "      <td>TOOLS</td>\n",
              "      <td>3.4</td>\n",
              "      <td>4.8</td>\n",
              "    </tr>\n",
              "    <tr>\n",
              "      <th>30</th>\n",
              "      <td>TRAVEL_AND_LOCAL</td>\n",
              "      <td>3.1</td>\n",
              "      <td>4.7</td>\n",
              "    </tr>\n",
              "    <tr>\n",
              "      <th>31</th>\n",
              "      <td>VIDEO_PLAYERS</td>\n",
              "      <td>3.8</td>\n",
              "      <td>4.8</td>\n",
              "    </tr>\n",
              "    <tr>\n",
              "      <th>32</th>\n",
              "      <td>WEATHER</td>\n",
              "      <td>3.9</td>\n",
              "      <td>4.5</td>\n",
              "    </tr>\n",
              "  </tbody>\n",
              "</table>\n",
              "</div>"
            ],
            "text/plain": [
              "               Category  min_rating_per_category  max_rating_per_category\n",
              "0        ART_AND_DESIGN                      3.9                      4.7\n",
              "1     AUTO_AND_VEHICLES                      4.2                      4.9\n",
              "2                BEAUTY                      3.9                      4.6\n",
              "3   BOOKS_AND_REFERENCE                      3.5                      4.7\n",
              "4              BUSINESS                      3.8                      4.6\n",
              "5                COMICS                      4.2                      4.7\n",
              "6         COMMUNICATION                      3.7                      4.6\n",
              "7                DATING                      3.3                      4.7\n",
              "8             EDUCATION                      3.5                      4.7\n",
              "9         ENTERTAINMENT                      3.0                      4.6\n",
              "10               EVENTS                      4.0                      4.5\n",
              "11               FAMILY                      3.6                      4.8\n",
              "12              FINANCE                      3.6                      4.8\n",
              "13       FOOD_AND_DRINK                      3.6                      4.7\n",
              "14                 GAME                      3.4                      4.7\n",
              "15   HEALTH_AND_FITNESS                      3.7                      4.9\n",
              "16       HOUSE_AND_HOME                      3.4                      4.7\n",
              "17   LIBRARIES_AND_DEMO                      3.1                      4.6\n",
              "18            LIFESTYLE                      3.2                      4.6\n",
              "19  MAPS_AND_NAVIGATION                      4.2                      4.8\n",
              "20              MEDICAL                      2.6                      4.8\n",
              "21   NEWS_AND_MAGAZINES                      3.7                      4.7\n",
              "22            PARENTING                      4.0                      4.7\n",
              "23      PERSONALIZATION                      3.9                      4.7\n",
              "24          PHOTOGRAPHY                      3.8                      4.8\n",
              "25         PRODUCTIVITY                      3.1                      4.7\n",
              "26             SHOPPING                      3.8                      4.7\n",
              "27               SOCIAL                      3.6                      4.8\n",
              "28               SPORTS                      3.5                      4.6\n",
              "29                TOOLS                      3.4                      4.8\n",
              "30     TRAVEL_AND_LOCAL                      3.1                      4.7\n",
              "31        VIDEO_PLAYERS                      3.8                      4.8\n",
              "32              WEATHER                      3.9                      4.5"
            ]
          },
          "metadata": {},
          "execution_count": 17
        }
      ]
    },
    {
      "cell_type": "code",
      "metadata": {
        "colab": {
          "base_uri": "https://localhost:8080/",
          "height": 300
        },
        "id": "MsL1GaqZedxf",
        "outputId": "9abffca3-23d4-410b-b135-d7eb131447da"
      },
      "source": [
        "# Maximum apps installed in each category\n",
        "max_apps_installed = combined_df.groupby(['Category','App'])['Installs'].max().reset_index()\n",
        "max_apps_installed[max_apps_installed['Installs'] == max_apps_installed['Installs'].max()]"
      ],
      "execution_count": 18,
      "outputs": [
        {
          "output_type": "execute_result",
          "data": {
            "text/html": [
              "<div>\n",
              "<style scoped>\n",
              "    .dataframe tbody tr th:only-of-type {\n",
              "        vertical-align: middle;\n",
              "    }\n",
              "\n",
              "    .dataframe tbody tr th {\n",
              "        vertical-align: top;\n",
              "    }\n",
              "\n",
              "    .dataframe thead th {\n",
              "        text-align: right;\n",
              "    }\n",
              "</style>\n",
              "<table border=\"1\" class=\"dataframe\">\n",
              "  <thead>\n",
              "    <tr style=\"text-align: right;\">\n",
              "      <th></th>\n",
              "      <th>Category</th>\n",
              "      <th>App</th>\n",
              "      <th>Installs</th>\n",
              "    </tr>\n",
              "  </thead>\n",
              "  <tbody>\n",
              "    <tr>\n",
              "      <th>90</th>\n",
              "      <td>COMMUNICATION</td>\n",
              "      <td>Gmail</td>\n",
              "      <td>1000000000</td>\n",
              "    </tr>\n",
              "    <tr>\n",
              "      <th>94</th>\n",
              "      <td>COMMUNICATION</td>\n",
              "      <td>Hangouts</td>\n",
              "      <td>1000000000</td>\n",
              "    </tr>\n",
              "    <tr>\n",
              "      <th>561</th>\n",
              "      <td>NEWS_AND_MAGAZINES</td>\n",
              "      <td>Google News</td>\n",
              "      <td>1000000000</td>\n",
              "    </tr>\n",
              "    <tr>\n",
              "      <th>627</th>\n",
              "      <td>PHOTOGRAPHY</td>\n",
              "      <td>Google Photos</td>\n",
              "      <td>1000000000</td>\n",
              "    </tr>\n",
              "    <tr>\n",
              "      <th>702</th>\n",
              "      <td>SOCIAL</td>\n",
              "      <td>Facebook</td>\n",
              "      <td>1000000000</td>\n",
              "    </tr>\n",
              "    <tr>\n",
              "      <th>708</th>\n",
              "      <td>SOCIAL</td>\n",
              "      <td>Google+</td>\n",
              "      <td>1000000000</td>\n",
              "    </tr>\n",
              "    <tr>\n",
              "      <th>781</th>\n",
              "      <td>TOOLS</td>\n",
              "      <td>Google</td>\n",
              "      <td>1000000000</td>\n",
              "    </tr>\n",
              "    <tr>\n",
              "      <th>824</th>\n",
              "      <td>TRAVEL_AND_LOCAL</td>\n",
              "      <td>Google Street View</td>\n",
              "      <td>1000000000</td>\n",
              "    </tr>\n",
              "  </tbody>\n",
              "</table>\n",
              "</div>"
            ],
            "text/plain": [
              "               Category                 App    Installs\n",
              "90        COMMUNICATION               Gmail  1000000000\n",
              "94        COMMUNICATION            Hangouts  1000000000\n",
              "561  NEWS_AND_MAGAZINES         Google News  1000000000\n",
              "627         PHOTOGRAPHY       Google Photos  1000000000\n",
              "702              SOCIAL            Facebook  1000000000\n",
              "708              SOCIAL             Google+  1000000000\n",
              "781               TOOLS              Google  1000000000\n",
              "824    TRAVEL_AND_LOCAL  Google Street View  1000000000"
            ]
          },
          "metadata": {},
          "execution_count": 18
        }
      ]
    },
    {
      "cell_type": "code",
      "metadata": {
        "colab": {
          "base_uri": "https://localhost:8080/"
        },
        "id": "zbWZq0Zhe5C5",
        "outputId": "b8dddc65-5b04-4234-b4b3-140535637dfc"
      },
      "source": [
        "# to find out the average rating of the paid apps and free apps and compare them\n",
        "combined_df.groupby('Type')['Rating'].mean()"
      ],
      "execution_count": 19,
      "outputs": [
        {
          "output_type": "execute_result",
          "data": {
            "text/plain": [
              "Type\n",
              "Free    4.333644\n",
              "Paid    4.333376\n",
              "Name: Rating, dtype: float64"
            ]
          },
          "metadata": {},
          "execution_count": 19
        }
      ]
    },
    {
      "cell_type": "markdown",
      "metadata": {
        "id": "azVknit9lqZA"
      },
      "source": [
        "##### The result depicts that the average rating of free and paid apps are very close and yet the average rating of free apps is more . Hence, free apps are performing well"
      ]
    },
    {
      "cell_type": "markdown",
      "metadata": {
        "id": "TYunzaEuAZoj"
      },
      "source": [
        "### Category with most number of paid apps"
      ]
    },
    {
      "cell_type": "code",
      "metadata": {
        "colab": {
          "base_uri": "https://localhost:8080/",
          "height": 989
        },
        "id": "bTdl5pxtlyT4",
        "outputId": "f04c7f0e-f95b-43c8-c529-4a7654bb4f1a"
      },
      "source": [
        "play_df[play_df['Type'] == 'Paid'].groupby(['Category'])['App'].count().sort_values(ascending=False).reset_index()"
      ],
      "execution_count": 20,
      "outputs": [
        {
          "output_type": "execute_result",
          "data": {
            "text/html": [
              "<div>\n",
              "<style scoped>\n",
              "    .dataframe tbody tr th:only-of-type {\n",
              "        vertical-align: middle;\n",
              "    }\n",
              "\n",
              "    .dataframe tbody tr th {\n",
              "        vertical-align: top;\n",
              "    }\n",
              "\n",
              "    .dataframe thead th {\n",
              "        text-align: right;\n",
              "    }\n",
              "</style>\n",
              "<table border=\"1\" class=\"dataframe\">\n",
              "  <thead>\n",
              "    <tr style=\"text-align: right;\">\n",
              "      <th></th>\n",
              "      <th>Category</th>\n",
              "      <th>App</th>\n",
              "    </tr>\n",
              "  </thead>\n",
              "  <tbody>\n",
              "    <tr>\n",
              "      <th>0</th>\n",
              "      <td>FAMILY</td>\n",
              "      <td>191</td>\n",
              "    </tr>\n",
              "    <tr>\n",
              "      <th>1</th>\n",
              "      <td>MEDICAL</td>\n",
              "      <td>109</td>\n",
              "    </tr>\n",
              "    <tr>\n",
              "      <th>2</th>\n",
              "      <td>GAME</td>\n",
              "      <td>83</td>\n",
              "    </tr>\n",
              "    <tr>\n",
              "      <th>3</th>\n",
              "      <td>PERSONALIZATION</td>\n",
              "      <td>83</td>\n",
              "    </tr>\n",
              "    <tr>\n",
              "      <th>4</th>\n",
              "      <td>TOOLS</td>\n",
              "      <td>78</td>\n",
              "    </tr>\n",
              "    <tr>\n",
              "      <th>5</th>\n",
              "      <td>BOOKS_AND_REFERENCE</td>\n",
              "      <td>28</td>\n",
              "    </tr>\n",
              "    <tr>\n",
              "      <th>6</th>\n",
              "      <td>PRODUCTIVITY</td>\n",
              "      <td>28</td>\n",
              "    </tr>\n",
              "    <tr>\n",
              "      <th>7</th>\n",
              "      <td>COMMUNICATION</td>\n",
              "      <td>27</td>\n",
              "    </tr>\n",
              "    <tr>\n",
              "      <th>8</th>\n",
              "      <td>SPORTS</td>\n",
              "      <td>24</td>\n",
              "    </tr>\n",
              "    <tr>\n",
              "      <th>9</th>\n",
              "      <td>PHOTOGRAPHY</td>\n",
              "      <td>22</td>\n",
              "    </tr>\n",
              "    <tr>\n",
              "      <th>10</th>\n",
              "      <td>LIFESTYLE</td>\n",
              "      <td>19</td>\n",
              "    </tr>\n",
              "    <tr>\n",
              "      <th>11</th>\n",
              "      <td>FINANCE</td>\n",
              "      <td>17</td>\n",
              "    </tr>\n",
              "    <tr>\n",
              "      <th>12</th>\n",
              "      <td>HEALTH_AND_FITNESS</td>\n",
              "      <td>16</td>\n",
              "    </tr>\n",
              "    <tr>\n",
              "      <th>13</th>\n",
              "      <td>BUSINESS</td>\n",
              "      <td>14</td>\n",
              "    </tr>\n",
              "    <tr>\n",
              "      <th>14</th>\n",
              "      <td>TRAVEL_AND_LOCAL</td>\n",
              "      <td>12</td>\n",
              "    </tr>\n",
              "    <tr>\n",
              "      <th>15</th>\n",
              "      <td>WEATHER</td>\n",
              "      <td>8</td>\n",
              "    </tr>\n",
              "    <tr>\n",
              "      <th>16</th>\n",
              "      <td>DATING</td>\n",
              "      <td>7</td>\n",
              "    </tr>\n",
              "    <tr>\n",
              "      <th>17</th>\n",
              "      <td>MAPS_AND_NAVIGATION</td>\n",
              "      <td>5</td>\n",
              "    </tr>\n",
              "    <tr>\n",
              "      <th>18</th>\n",
              "      <td>VIDEO_PLAYERS</td>\n",
              "      <td>4</td>\n",
              "    </tr>\n",
              "    <tr>\n",
              "      <th>19</th>\n",
              "      <td>EDUCATION</td>\n",
              "      <td>4</td>\n",
              "    </tr>\n",
              "    <tr>\n",
              "      <th>20</th>\n",
              "      <td>AUTO_AND_VEHICLES</td>\n",
              "      <td>3</td>\n",
              "    </tr>\n",
              "    <tr>\n",
              "      <th>21</th>\n",
              "      <td>ART_AND_DESIGN</td>\n",
              "      <td>3</td>\n",
              "    </tr>\n",
              "    <tr>\n",
              "      <th>22</th>\n",
              "      <td>SOCIAL</td>\n",
              "      <td>3</td>\n",
              "    </tr>\n",
              "    <tr>\n",
              "      <th>23</th>\n",
              "      <td>ENTERTAINMENT</td>\n",
              "      <td>2</td>\n",
              "    </tr>\n",
              "    <tr>\n",
              "      <th>24</th>\n",
              "      <td>FOOD_AND_DRINK</td>\n",
              "      <td>2</td>\n",
              "    </tr>\n",
              "    <tr>\n",
              "      <th>25</th>\n",
              "      <td>NEWS_AND_MAGAZINES</td>\n",
              "      <td>2</td>\n",
              "    </tr>\n",
              "    <tr>\n",
              "      <th>26</th>\n",
              "      <td>PARENTING</td>\n",
              "      <td>2</td>\n",
              "    </tr>\n",
              "    <tr>\n",
              "      <th>27</th>\n",
              "      <td>SHOPPING</td>\n",
              "      <td>2</td>\n",
              "    </tr>\n",
              "    <tr>\n",
              "      <th>28</th>\n",
              "      <td>EVENTS</td>\n",
              "      <td>1</td>\n",
              "    </tr>\n",
              "    <tr>\n",
              "      <th>29</th>\n",
              "      <td>LIBRARIES_AND_DEMO</td>\n",
              "      <td>1</td>\n",
              "    </tr>\n",
              "  </tbody>\n",
              "</table>\n",
              "</div>"
            ],
            "text/plain": [
              "               Category  App\n",
              "0                FAMILY  191\n",
              "1               MEDICAL  109\n",
              "2                  GAME   83\n",
              "3       PERSONALIZATION   83\n",
              "4                 TOOLS   78\n",
              "5   BOOKS_AND_REFERENCE   28\n",
              "6          PRODUCTIVITY   28\n",
              "7         COMMUNICATION   27\n",
              "8                SPORTS   24\n",
              "9           PHOTOGRAPHY   22\n",
              "10            LIFESTYLE   19\n",
              "11              FINANCE   17\n",
              "12   HEALTH_AND_FITNESS   16\n",
              "13             BUSINESS   14\n",
              "14     TRAVEL_AND_LOCAL   12\n",
              "15              WEATHER    8\n",
              "16               DATING    7\n",
              "17  MAPS_AND_NAVIGATION    5\n",
              "18        VIDEO_PLAYERS    4\n",
              "19            EDUCATION    4\n",
              "20    AUTO_AND_VEHICLES    3\n",
              "21       ART_AND_DESIGN    3\n",
              "22               SOCIAL    3\n",
              "23        ENTERTAINMENT    2\n",
              "24       FOOD_AND_DRINK    2\n",
              "25   NEWS_AND_MAGAZINES    2\n",
              "26            PARENTING    2\n",
              "27             SHOPPING    2\n",
              "28               EVENTS    1\n",
              "29   LIBRARIES_AND_DEMO    1"
            ]
          },
          "metadata": {},
          "execution_count": 20
        }
      ]
    },
    {
      "cell_type": "markdown",
      "metadata": {
        "id": "CznV_FhzGmz7"
      },
      "source": [
        "### Let's visualize the results using horizontal bar plot"
      ]
    },
    {
      "cell_type": "code",
      "metadata": {
        "colab": {
          "base_uri": "https://localhost:8080/",
          "height": 621
        },
        "id": "joE4LuLyAjj-",
        "outputId": "4bf7f44c-b3c9-4dbf-97bb-ec617b43120d"
      },
      "source": [
        "df_paid = play_df[play_df['Type'] == 'Paid'].groupby(['Category'])['App'].count().sort_values(ascending=False).reset_index()\n",
        "\n",
        "fig = plt.figure(figsize =(12,10))\n",
        "plt.barh(df_paid.Category,df_paid.App)\n",
        "plt.xlabel('No. of paid Apps')\n",
        "plt.ylabel('Category')\n",
        "plt.title('Category with most number of paid Apps')\n",
        "plt.show()"
      ],
      "execution_count": 21,
      "outputs": [
        {
          "output_type": "display_data",
          "data": {
            "image/png": "[encoded data removed]",
            "text/plain": [
              "<Figure size 864x720 with 1 Axes>"
            ]
          },
          "metadata": {
            "needs_background": "light"
          }
        }
      ]
    },
    {
      "cell_type": "markdown",
      "metadata": {
        "id": "GDEqOJZ3HHiq"
      },
      "source": [
        "### Comparison of size of app and number of installs"
      ]
    },
    {
      "cell_type": "code",
      "metadata": {
        "colab": {
          "base_uri": "https://localhost:8080/",
          "height": 423
        },
        "id": "vs3YBHQUHMIT",
        "outputId": "9619f39c-8d40-47f4-ead0-e48d95cc6ef9"
      },
      "source": [
        "combined_df.drop([10472]).groupby(['Size'])['Installs'].sum().reset_index()"
      ],
      "execution_count": 22,
      "outputs": [
        {
          "output_type": "execute_result",
          "data": {
            "text/html": [
              "<div>\n",
              "<style scoped>\n",
              "    .dataframe tbody tr th:only-of-type {\n",
              "        vertical-align: middle;\n",
              "    }\n",
              "\n",
              "    .dataframe tbody tr th {\n",
              "        vertical-align: top;\n",
              "    }\n",
              "\n",
              "    .dataframe thead th {\n",
              "        text-align: right;\n",
              "    }\n",
              "</style>\n",
              "<table border=\"1\" class=\"dataframe\">\n",
              "  <thead>\n",
              "    <tr style=\"text-align: right;\">\n",
              "      <th></th>\n",
              "      <th>Size</th>\n",
              "      <th>Installs</th>\n",
              "    </tr>\n",
              "  </thead>\n",
              "  <tbody>\n",
              "    <tr>\n",
              "      <th>0</th>\n",
              "      <td>1.2</td>\n",
              "      <td>43700000</td>\n",
              "    </tr>\n",
              "    <tr>\n",
              "      <th>1</th>\n",
              "      <td>1.3</td>\n",
              "      <td>370000000</td>\n",
              "    </tr>\n",
              "    <tr>\n",
              "      <th>2</th>\n",
              "      <td>1.5</td>\n",
              "      <td>998000000</td>\n",
              "    </tr>\n",
              "    <tr>\n",
              "      <th>3</th>\n",
              "      <td>1.6</td>\n",
              "      <td>54000000</td>\n",
              "    </tr>\n",
              "    <tr>\n",
              "      <th>4</th>\n",
              "      <td>1.7</td>\n",
              "      <td>40000000</td>\n",
              "    </tr>\n",
              "    <tr>\n",
              "      <th>...</th>\n",
              "      <td>...</td>\n",
              "      <td>...</td>\n",
              "    </tr>\n",
              "    <tr>\n",
              "      <th>161</th>\n",
              "      <td>95000.0</td>\n",
              "      <td>2222000000</td>\n",
              "    </tr>\n",
              "    <tr>\n",
              "      <th>162</th>\n",
              "      <td>96000.0</td>\n",
              "      <td>38000000</td>\n",
              "    </tr>\n",
              "    <tr>\n",
              "      <th>163</th>\n",
              "      <td>97000.0</td>\n",
              "      <td>202509000000</td>\n",
              "    </tr>\n",
              "    <tr>\n",
              "      <th>164</th>\n",
              "      <td>98000.0</td>\n",
              "      <td>13200000000</td>\n",
              "    </tr>\n",
              "    <tr>\n",
              "      <th>165</th>\n",
              "      <td>99000.0</td>\n",
              "      <td>152000000</td>\n",
              "    </tr>\n",
              "  </tbody>\n",
              "</table>\n",
              "<p>166 rows × 2 columns</p>\n",
              "</div>"
            ],
            "text/plain": [
              "        Size      Installs\n",
              "0        1.2      43700000\n",
              "1        1.3     370000000\n",
              "2        1.5     998000000\n",
              "3        1.6      54000000\n",
              "4        1.7      40000000\n",
              "..       ...           ...\n",
              "161  95000.0    2222000000\n",
              "162  96000.0      38000000\n",
              "163  97000.0  202509000000\n",
              "164  98000.0   13200000000\n",
              "165  99000.0     152000000\n",
              "\n",
              "[166 rows x 2 columns]"
            ]
          },
          "metadata": {},
          "execution_count": 22
        }
      ]
    },
    {
      "cell_type": "code",
      "metadata": {
        "colab": {
          "base_uri": "https://localhost:8080/",
          "height": 404
        },
        "id": "fIEaL1UdHS-R",
        "outputId": "4f80fd5c-bd9d-4829-a395-71994b89b3c8"
      },
      "source": [
        "df_size_vs_install = combined_df.drop([10472]).groupby(['Size'])['Installs'].sum().reset_index()\n",
        "\n",
        "plt.figure(figsize =(15,6))\n",
        "plt.scatter(df_size_vs_install.Size, df_size_vs_install.Installs)\n",
        "plt.xlabel('Install size')\n",
        "plt.ylabel('Number of Installs')\n",
        "plt.title('Install size vs Number of Installs')\n",
        "plt.show()"
      ],
      "execution_count": 23,
      "outputs": [
        {
          "output_type": "display_data",
          "data": {
            "image/png": "[encoded data removed]",
            "text/plain": [
              "<Figure size 1080x432 with 1 Axes>"
            ]
          },
          "metadata": {
            "needs_background": "light"
          }
        }
      ]
    },
    {
      "cell_type": "markdown",
      "metadata": {
        "id": "DOOjeprtKjDF"
      },
      "source": [
        "### **Most downloaded genres in each category**"
      ]
    },
    {
      "cell_type": "code",
      "metadata": {
        "colab": {
          "base_uri": "https://localhost:8080/",
          "height": 1000
        },
        "id": "xzqaKqo6Hct3",
        "outputId": "97d5e52a-e6f7-4ebb-84ac-bcc39257cddf"
      },
      "source": [
        "df_group1 = combined_df[['Category','Genres','Installs']]\n",
        "df_group2 = df_group1.groupby(['Category','Genres'])['Installs'].sum().reset_index()\n",
        "df_group3 = df_group2.groupby(['Category'])['Installs'].max().reset_index()\n",
        "df_group4 = pd.merge(df_group2,df_group3,on='Installs',how='inner')\n",
        "df_group4.drop('Category_y', axis=1, inplace=True)\n",
        "df_group4"
      ],
      "execution_count": 24,
      "outputs": [
        {
          "output_type": "execute_result",
          "data": {
            "text/html": [
              "<div>\n",
              "<style scoped>\n",
              "    .dataframe tbody tr th:only-of-type {\n",
              "        vertical-align: middle;\n",
              "    }\n",
              "\n",
              "    .dataframe tbody tr th {\n",
              "        vertical-align: top;\n",
              "    }\n",
              "\n",
              "    .dataframe thead th {\n",
              "        text-align: right;\n",
              "    }\n",
              "</style>\n",
              "<table border=\"1\" class=\"dataframe\">\n",
              "  <thead>\n",
              "    <tr style=\"text-align: right;\">\n",
              "      <th></th>\n",
              "      <th>Category_x</th>\n",
              "      <th>Genres</th>\n",
              "      <th>Installs</th>\n",
              "    </tr>\n",
              "  </thead>\n",
              "  <tbody>\n",
              "    <tr>\n",
              "      <th>0</th>\n",
              "      <td>ART_AND_DESIGN</td>\n",
              "      <td>Art &amp; Design</td>\n",
              "      <td>688100000</td>\n",
              "    </tr>\n",
              "    <tr>\n",
              "      <th>1</th>\n",
              "      <td>AUTO_AND_VEHICLES</td>\n",
              "      <td>Auto &amp; Vehicles</td>\n",
              "      <td>448300000</td>\n",
              "    </tr>\n",
              "    <tr>\n",
              "      <th>2</th>\n",
              "      <td>BEAUTY</td>\n",
              "      <td>Beauty</td>\n",
              "      <td>498500000</td>\n",
              "    </tr>\n",
              "    <tr>\n",
              "      <th>3</th>\n",
              "      <td>BOOKS_AND_REFERENCE</td>\n",
              "      <td>Books &amp; Reference</td>\n",
              "      <td>35380100000</td>\n",
              "    </tr>\n",
              "    <tr>\n",
              "      <th>4</th>\n",
              "      <td>BUSINESS</td>\n",
              "      <td>Business</td>\n",
              "      <td>19544600000</td>\n",
              "    </tr>\n",
              "    <tr>\n",
              "      <th>5</th>\n",
              "      <td>COMICS</td>\n",
              "      <td>Comics</td>\n",
              "      <td>70100000</td>\n",
              "    </tr>\n",
              "    <tr>\n",
              "      <th>6</th>\n",
              "      <td>COMMUNICATION</td>\n",
              "      <td>Communication</td>\n",
              "      <td>714217000000</td>\n",
              "    </tr>\n",
              "    <tr>\n",
              "      <th>7</th>\n",
              "      <td>DATING</td>\n",
              "      <td>Dating</td>\n",
              "      <td>3739360000</td>\n",
              "    </tr>\n",
              "    <tr>\n",
              "      <th>8</th>\n",
              "      <td>EDUCATION</td>\n",
              "      <td>Education;Education</td>\n",
              "      <td>96180000000</td>\n",
              "    </tr>\n",
              "    <tr>\n",
              "      <th>9</th>\n",
              "      <td>ENTERTAINMENT</td>\n",
              "      <td>Entertainment</td>\n",
              "      <td>14583950000</td>\n",
              "    </tr>\n",
              "    <tr>\n",
              "      <th>10</th>\n",
              "      <td>EVENTS</td>\n",
              "      <td>Events</td>\n",
              "      <td>45590000</td>\n",
              "    </tr>\n",
              "    <tr>\n",
              "      <th>11</th>\n",
              "      <td>FAMILY</td>\n",
              "      <td>Casual</td>\n",
              "      <td>141850000000</td>\n",
              "    </tr>\n",
              "    <tr>\n",
              "      <th>12</th>\n",
              "      <td>FINANCE</td>\n",
              "      <td>Finance</td>\n",
              "      <td>50408490000</td>\n",
              "    </tr>\n",
              "    <tr>\n",
              "      <th>13</th>\n",
              "      <td>FOOD_AND_DRINK</td>\n",
              "      <td>Food &amp; Drink</td>\n",
              "      <td>3032550000</td>\n",
              "    </tr>\n",
              "    <tr>\n",
              "      <th>14</th>\n",
              "      <td>GAME</td>\n",
              "      <td>Casual</td>\n",
              "      <td>838915000000</td>\n",
              "    </tr>\n",
              "    <tr>\n",
              "      <th>15</th>\n",
              "      <td>HEALTH_AND_FITNESS</td>\n",
              "      <td>Health &amp; Fitness</td>\n",
              "      <td>71948300000</td>\n",
              "    </tr>\n",
              "    <tr>\n",
              "      <th>16</th>\n",
              "      <td>HOUSE_AND_HOME</td>\n",
              "      <td>House &amp; Home</td>\n",
              "      <td>688880000</td>\n",
              "    </tr>\n",
              "    <tr>\n",
              "      <th>17</th>\n",
              "      <td>LIBRARIES_AND_DEMO</td>\n",
              "      <td>Libraries &amp; Demo</td>\n",
              "      <td>646400000</td>\n",
              "    </tr>\n",
              "    <tr>\n",
              "      <th>18</th>\n",
              "      <td>LIFESTYLE</td>\n",
              "      <td>Lifestyle</td>\n",
              "      <td>5335270000</td>\n",
              "    </tr>\n",
              "    <tr>\n",
              "      <th>19</th>\n",
              "      <td>MAPS_AND_NAVIGATION</td>\n",
              "      <td>Maps &amp; Navigation</td>\n",
              "      <td>336000000</td>\n",
              "    </tr>\n",
              "    <tr>\n",
              "      <th>20</th>\n",
              "      <td>MEDICAL</td>\n",
              "      <td>Medical</td>\n",
              "      <td>1208837000</td>\n",
              "    </tr>\n",
              "    <tr>\n",
              "      <th>21</th>\n",
              "      <td>NEWS_AND_MAGAZINES</td>\n",
              "      <td>News &amp; Magazines</td>\n",
              "      <td>497925800000</td>\n",
              "    </tr>\n",
              "    <tr>\n",
              "      <th>22</th>\n",
              "      <td>PARENTING</td>\n",
              "      <td>Parenting</td>\n",
              "      <td>96200000</td>\n",
              "    </tr>\n",
              "    <tr>\n",
              "      <th>23</th>\n",
              "      <td>PERSONALIZATION</td>\n",
              "      <td>Personalization</td>\n",
              "      <td>24988600000</td>\n",
              "    </tr>\n",
              "    <tr>\n",
              "      <th>24</th>\n",
              "      <td>PHOTOGRAPHY</td>\n",
              "      <td>Photography</td>\n",
              "      <td>846456000000</td>\n",
              "    </tr>\n",
              "    <tr>\n",
              "      <th>25</th>\n",
              "      <td>PRODUCTIVITY</td>\n",
              "      <td>Productivity</td>\n",
              "      <td>283493300000</td>\n",
              "    </tr>\n",
              "    <tr>\n",
              "      <th>26</th>\n",
              "      <td>SHOPPING</td>\n",
              "      <td>Shopping</td>\n",
              "      <td>66968000000</td>\n",
              "    </tr>\n",
              "    <tr>\n",
              "      <th>27</th>\n",
              "      <td>SOCIAL</td>\n",
              "      <td>Social</td>\n",
              "      <td>347549100000</td>\n",
              "    </tr>\n",
              "    <tr>\n",
              "      <th>28</th>\n",
              "      <td>SPORTS</td>\n",
              "      <td>Sports</td>\n",
              "      <td>39204890000</td>\n",
              "    </tr>\n",
              "    <tr>\n",
              "      <th>29</th>\n",
              "      <td>TOOLS</td>\n",
              "      <td>Tools</td>\n",
              "      <td>237093800000</td>\n",
              "    </tr>\n",
              "    <tr>\n",
              "      <th>30</th>\n",
              "      <td>TRAVEL_AND_LOCAL</td>\n",
              "      <td>Travel &amp; Local</td>\n",
              "      <td>69388500000</td>\n",
              "    </tr>\n",
              "    <tr>\n",
              "      <th>31</th>\n",
              "      <td>VIDEO_PLAYERS</td>\n",
              "      <td>Video Players &amp; Editors</td>\n",
              "      <td>4078000000</td>\n",
              "    </tr>\n",
              "    <tr>\n",
              "      <th>32</th>\n",
              "      <td>WEATHER</td>\n",
              "      <td>Weather</td>\n",
              "      <td>4921000000</td>\n",
              "    </tr>\n",
              "  </tbody>\n",
              "</table>\n",
              "</div>"
            ],
            "text/plain": [
              "             Category_x                   Genres      Installs\n",
              "0        ART_AND_DESIGN             Art & Design     688100000\n",
              "1     AUTO_AND_VEHICLES          Auto & Vehicles     448300000\n",
              "2                BEAUTY                   Beauty     498500000\n",
              "3   BOOKS_AND_REFERENCE        Books & Reference   35380100000\n",
              "4              BUSINESS                 Business   19544600000\n",
              "5                COMICS                   Comics      70100000\n",
              "6         COMMUNICATION            Communication  714217000000\n",
              "7                DATING                   Dating    3739360000\n",
              "8             EDUCATION      Education;Education   96180000000\n",
              "9         ENTERTAINMENT            Entertainment   14583950000\n",
              "10               EVENTS                   Events      45590000\n",
              "11               FAMILY                   Casual  141850000000\n",
              "12              FINANCE                  Finance   50408490000\n",
              "13       FOOD_AND_DRINK             Food & Drink    3032550000\n",
              "14                 GAME                   Casual  838915000000\n",
              "15   HEALTH_AND_FITNESS         Health & Fitness   71948300000\n",
              "16       HOUSE_AND_HOME             House & Home     688880000\n",
              "17   LIBRARIES_AND_DEMO         Libraries & Demo     646400000\n",
              "18            LIFESTYLE                Lifestyle    5335270000\n",
              "19  MAPS_AND_NAVIGATION        Maps & Navigation     336000000\n",
              "20              MEDICAL                  Medical    1208837000\n",
              "21   NEWS_AND_MAGAZINES         News & Magazines  497925800000\n",
              "22            PARENTING                Parenting      96200000\n",
              "23      PERSONALIZATION          Personalization   24988600000\n",
              "24          PHOTOGRAPHY              Photography  846456000000\n",
              "25         PRODUCTIVITY             Productivity  283493300000\n",
              "26             SHOPPING                 Shopping   66968000000\n",
              "27               SOCIAL                   Social  347549100000\n",
              "28               SPORTS                   Sports   39204890000\n",
              "29                TOOLS                    Tools  237093800000\n",
              "30     TRAVEL_AND_LOCAL           Travel & Local   69388500000\n",
              "31        VIDEO_PLAYERS  Video Players & Editors    4078000000\n",
              "32              WEATHER                  Weather    4921000000"
            ]
          },
          "metadata": {},
          "execution_count": 24
        }
      ]
    },
    {
      "cell_type": "code",
      "metadata": {
        "colab": {
          "base_uri": "https://localhost:8080/",
          "height": 510
        },
        "id": "BeBX9c1hKvyX",
        "outputId": "7721748b-9875-42c6-b319-a02f8348c88a"
      },
      "source": [
        "plt.figure(figsize=(15,6))\n",
        "plt.bar(df_group4['Genres'], df_group4['Installs'])\n",
        "plt.xticks(rotation=90)\n",
        "plt.title('Most downloaded genres in each category')\n",
        "plt.xlabel('Genres')\n",
        "plt.ylabel('Number of Installs')\n",
        "plt.savefig('Most downloaded genres in each category.png')\n",
        "plt.show()"
      ],
      "execution_count": 25,
      "outputs": [
        {
          "output_type": "display_data",
          "data": {
            "image/png": "[encoded data removed]",
            "text/plain": [
              "<Figure size 1080x432 with 1 Axes>"
            ]
          },
          "metadata": {
            "needs_background": "light"
          }
        }
      ]
    },
    {
      "cell_type": "markdown",
      "metadata": {
        "id": "Ez0gng6GP4EH"
      },
      "source": [
        "### Average Rating of paid and free apps and their comparison per category and overall"
      ]
    },
    {
      "cell_type": "code",
      "metadata": {
        "colab": {
          "base_uri": "https://localhost:8080/",
          "height": 539
        },
        "id": "Tbig7VbqP9xa",
        "outputId": "8974604c-f488-4b0d-cff6-13289fa542ef"
      },
      "source": [
        "fig, ax = plt.subplots(figsize=(15,6))\n",
        "combined_df.groupby(['Category','Type'])['Rating'].agg('mean').unstack().plot(ax=ax, kind='bar')\n",
        "plt.title('Average Rating of paid and free apps and their comparison per category and overall')\n",
        "plt.xlabel('Category')\n",
        "plt.ylabel('Average Rating')"
      ],
      "execution_count": 26,
      "outputs": [
        {
          "output_type": "execute_result",
          "data": {
            "text/plain": [
              "Text(0, 0.5, 'Average Rating')"
            ]
          },
          "metadata": {},
          "execution_count": 26
        },
        {
          "output_type": "display_data",
          "data": {
            "image/png": "[encoded data removed]",
            "text/plain": [
              "<Figure size 1080x432 with 1 Axes>"
            ]
          },
          "metadata": {
            "needs_background": "light"
          }
        }
      ]
    },
    {
      "cell_type": "markdown",
      "metadata": {
        "id": "u2nR8lUvM1UG"
      },
      "source": [
        "### Average rating of paid apps and free apps"
      ]
    },
    {
      "cell_type": "code",
      "metadata": {
        "colab": {
          "base_uri": "https://localhost:8080/",
          "height": 380
        },
        "id": "ehxiVgrqQBpH",
        "outputId": "7fbc1023-5315-4cbd-cdd3-afa438fa0e6d"
      },
      "source": [
        "fig, ax = plt.subplots(figsize=(10,5))\n",
        "combined_df.groupby('Type')['Rating'].agg('mean').plot(kind='bar',ax=ax)\n",
        "plt.title('Average rating of paid apps and free apps')\n",
        "plt.ylabel('Average Rating')\n",
        "plt.xlabel('Type')"
      ],
      "execution_count": 27,
      "outputs": [
        {
          "output_type": "execute_result",
          "data": {
            "text/plain": [
              "Text(0.5, 0, 'Type')"
            ]
          },
          "metadata": {},
          "execution_count": 27
        },
        {
          "output_type": "display_data",
          "data": {
            "image/png": "[encoded data removed]",
            "text/plain": [
              "<Figure size 720x360 with 1 Axes>"
            ]
          },
          "metadata": {
            "needs_background": "light"
          }
        }
      ]
    },
    {
      "cell_type": "markdown",
      "metadata": {
        "id": "fjJXd4mLNWzH"
      },
      "source": [
        "### **To find the percentage of involvement of audience in each app and compare every category**"
      ]
    },
    {
      "cell_type": "code",
      "metadata": {
        "colab": {
          "base_uri": "https://localhost:8080/",
          "height": 417
        },
        "id": "OQaOucXCM_pl",
        "outputId": "1e70544d-64e6-4331-b1ee-8b2e72568d50"
      },
      "source": [
        "#lets first install a new column named involvement and we will calculate involvement as (total install-no. of reviews)/total installs\n",
        "#lets define a function\n",
        "def involvement():\n",
        "  return (combined_df['Installs']-combined_df['Reviews'])/combined_df['Installs']\n",
        "#lets apply it to the columns\n",
        "combined_df['involvement'] = involvement()\n",
        "combined_df.head()"
      ],
      "execution_count": 28,
      "outputs": [
        {
          "output_type": "execute_result",
          "data": {
            "text/html": [
              "<div>\n",
              "<style scoped>\n",
              "    .dataframe tbody tr th:only-of-type {\n",
              "        vertical-align: middle;\n",
              "    }\n",
              "\n",
              "    .dataframe tbody tr th {\n",
              "        vertical-align: top;\n",
              "    }\n",
              "\n",
              "    .dataframe thead th {\n",
              "        text-align: right;\n",
              "    }\n",
              "</style>\n",
              "<table border=\"1\" class=\"dataframe\">\n",
              "  <thead>\n",
              "    <tr style=\"text-align: right;\">\n",
              "      <th></th>\n",
              "      <th>App</th>\n",
              "      <th>Category</th>\n",
              "      <th>Rating</th>\n",
              "      <th>Reviews</th>\n",
              "      <th>Size</th>\n",
              "      <th>Installs</th>\n",
              "      <th>Type</th>\n",
              "      <th>Price</th>\n",
              "      <th>Content Rating</th>\n",
              "      <th>Genres</th>\n",
              "      <th>Last Updated</th>\n",
              "      <th>Current Ver</th>\n",
              "      <th>Android Ver</th>\n",
              "      <th>Translated_Review</th>\n",
              "      <th>Sentiment</th>\n",
              "      <th>Sentiment_Polarity</th>\n",
              "      <th>Sentiment_Subjectivity</th>\n",
              "      <th>involvement</th>\n",
              "    </tr>\n",
              "  </thead>\n",
              "  <tbody>\n",
              "    <tr>\n",
              "      <th>0</th>\n",
              "      <td>Coloring book moana</td>\n",
              "      <td>ART_AND_DESIGN</td>\n",
              "      <td>3.9</td>\n",
              "      <td>967</td>\n",
              "      <td>14000.0</td>\n",
              "      <td>500000</td>\n",
              "      <td>Free</td>\n",
              "      <td>0.0</td>\n",
              "      <td>Everyone</td>\n",
              "      <td>Art &amp; Design;Pretend Play</td>\n",
              "      <td>2018-01-15</td>\n",
              "      <td>2.0.0</td>\n",
              "      <td>4.0.3 and up</td>\n",
              "      <td>A kid's excessive ads. The types ads allowed a...</td>\n",
              "      <td>Negative</td>\n",
              "      <td>-0.250</td>\n",
              "      <td>1.000000</td>\n",
              "      <td>0.998066</td>\n",
              "    </tr>\n",
              "    <tr>\n",
              "      <th>1</th>\n",
              "      <td>Coloring book moana</td>\n",
              "      <td>ART_AND_DESIGN</td>\n",
              "      <td>3.9</td>\n",
              "      <td>967</td>\n",
              "      <td>14000.0</td>\n",
              "      <td>500000</td>\n",
              "      <td>Free</td>\n",
              "      <td>0.0</td>\n",
              "      <td>Everyone</td>\n",
              "      <td>Art &amp; Design;Pretend Play</td>\n",
              "      <td>2018-01-15</td>\n",
              "      <td>2.0.0</td>\n",
              "      <td>4.0.3 and up</td>\n",
              "      <td>It bad &gt;:(</td>\n",
              "      <td>Negative</td>\n",
              "      <td>-0.725</td>\n",
              "      <td>0.833333</td>\n",
              "      <td>0.998066</td>\n",
              "    </tr>\n",
              "    <tr>\n",
              "      <th>2</th>\n",
              "      <td>Coloring book moana</td>\n",
              "      <td>ART_AND_DESIGN</td>\n",
              "      <td>3.9</td>\n",
              "      <td>967</td>\n",
              "      <td>14000.0</td>\n",
              "      <td>500000</td>\n",
              "      <td>Free</td>\n",
              "      <td>0.0</td>\n",
              "      <td>Everyone</td>\n",
              "      <td>Art &amp; Design;Pretend Play</td>\n",
              "      <td>2018-01-15</td>\n",
              "      <td>2.0.0</td>\n",
              "      <td>4.0.3 and up</td>\n",
              "      <td>like</td>\n",
              "      <td>Neutral</td>\n",
              "      <td>0.000</td>\n",
              "      <td>0.000000</td>\n",
              "      <td>0.998066</td>\n",
              "    </tr>\n",
              "    <tr>\n",
              "      <th>3</th>\n",
              "      <td>Coloring book moana</td>\n",
              "      <td>ART_AND_DESIGN</td>\n",
              "      <td>3.9</td>\n",
              "      <td>967</td>\n",
              "      <td>14000.0</td>\n",
              "      <td>500000</td>\n",
              "      <td>Free</td>\n",
              "      <td>0.0</td>\n",
              "      <td>Everyone</td>\n",
              "      <td>Art &amp; Design;Pretend Play</td>\n",
              "      <td>2018-01-15</td>\n",
              "      <td>2.0.0</td>\n",
              "      <td>4.0.3 and up</td>\n",
              "      <td>I love colors inspyering</td>\n",
              "      <td>Positive</td>\n",
              "      <td>0.500</td>\n",
              "      <td>0.600000</td>\n",
              "      <td>0.998066</td>\n",
              "    </tr>\n",
              "    <tr>\n",
              "      <th>4</th>\n",
              "      <td>Coloring book moana</td>\n",
              "      <td>ART_AND_DESIGN</td>\n",
              "      <td>3.9</td>\n",
              "      <td>967</td>\n",
              "      <td>14000.0</td>\n",
              "      <td>500000</td>\n",
              "      <td>Free</td>\n",
              "      <td>0.0</td>\n",
              "      <td>Everyone</td>\n",
              "      <td>Art &amp; Design;Pretend Play</td>\n",
              "      <td>2018-01-15</td>\n",
              "      <td>2.0.0</td>\n",
              "      <td>4.0.3 and up</td>\n",
              "      <td>I hate</td>\n",
              "      <td>Negative</td>\n",
              "      <td>-0.800</td>\n",
              "      <td>0.900000</td>\n",
              "      <td>0.998066</td>\n",
              "    </tr>\n",
              "  </tbody>\n",
              "</table>\n",
              "</div>"
            ],
            "text/plain": [
              "                   App        Category  ...  Sentiment_Subjectivity  involvement\n",
              "0  Coloring book moana  ART_AND_DESIGN  ...                1.000000     0.998066\n",
              "1  Coloring book moana  ART_AND_DESIGN  ...                0.833333     0.998066\n",
              "2  Coloring book moana  ART_AND_DESIGN  ...                0.000000     0.998066\n",
              "3  Coloring book moana  ART_AND_DESIGN  ...                0.600000     0.998066\n",
              "4  Coloring book moana  ART_AND_DESIGN  ...                0.900000     0.998066\n",
              "\n",
              "[5 rows x 18 columns]"
            ]
          },
          "metadata": {},
          "execution_count": 28
        }
      ]
    },
    {
      "cell_type": "markdown",
      "metadata": {
        "id": "1AYFZX3XSHJy"
      },
      "source": [
        "### **Now lets check which app category has more audience involvement. This can be done by grouping the category and finding the average involvement**"
      ]
    },
    {
      "cell_type": "code",
      "metadata": {
        "id": "VO9AchZ3N1Zv"
      },
      "source": [
        "involvement_df = combined_df.groupby('Category')['involvement'].mean().reset_index()"
      ],
      "execution_count": 29,
      "outputs": []
    },
    {
      "cell_type": "code",
      "metadata": {
        "colab": {
          "base_uri": "https://localhost:8080/",
          "height": 466
        },
        "id": "nzTu5j-KSk4n",
        "outputId": "24af0a61-30ac-4d81-9776-384d954bfadb"
      },
      "source": [
        "plt.figure(figsize = (15,5))\n",
        "plt.plot(involvement_df['Category'],involvement_df['involvement'])\n",
        "plt.xticks(rotation = '90')\n",
        "plt.title('Comparison of audience involvement in each category')\n",
        "plt.xlabel('Category')\n",
        "plt.ylabel('Involvement')\n",
        "plt.show()"
      ],
      "execution_count": 30,
      "outputs": [
        {
          "output_type": "display_data",
          "data": {
            "image/png": "[encoded data removed]",
            "text/plain": [
              "<Figure size 1080x360 with 1 Axes>"
            ]
          },
          "metadata": {
            "needs_background": "light"
          }
        }
      ]
    },
    {
      "cell_type": "markdown",
      "metadata": {
        "id": "xLAgjTv5ZbrY"
      },
      "source": [
        "### **Lets check the data by setting the Y axis from 0 to 1.00 so to check the data correctly**"
      ]
    },
    {
      "cell_type": "code",
      "metadata": {
        "colab": {
          "base_uri": "https://localhost:8080/",
          "height": 454
        },
        "id": "wELQitivSpeG",
        "outputId": "16b93b8b-94cf-4a71-d4b2-769f844208a4"
      },
      "source": [
        "plt.figure(figsize = (15,5))\n",
        "plt.plot(involvement_df['Category'],involvement_df['involvement'])\n",
        "plt.ylim(0,1.00)\n",
        "plt.xticks(rotation = '90')\n",
        "plt.xlabel('Category')\n",
        "plt.ylabel('Involvement')\n",
        "plt.show()\n"
      ],
      "execution_count": 31,
      "outputs": [
        {
          "output_type": "display_data",
          "data": {
            "image/png": "[encoded data removed]",
            "text/plain": [
              "<Figure size 1080x360 with 1 Axes>"
            ]
          },
          "metadata": {
            "needs_background": "light"
          }
        }
      ]
    },
    {
      "cell_type": "markdown",
      "metadata": {
        "id": "mBpB2RTLf0OK"
      },
      "source": [
        "### **Now lets check the number of paid apps and number of free apps to total apps**"
      ]
    },
    {
      "cell_type": "code",
      "metadata": {
        "id": "gVZ4aa_7ZzWe"
      },
      "source": [
        "# There is one index missing from the dataframe so lets reset and drop the old index column\n",
        "combined_df.reset_index(inplace=True)\n",
        "combined_df.drop(['index'],inplace = True,axis = 1)"
      ],
      "execution_count": 32,
      "outputs": []
    },
    {
      "cell_type": "code",
      "metadata": {
        "colab": {
          "base_uri": "https://localhost:8080/",
          "height": 313
        },
        "id": "s775eLKBgS_D",
        "outputId": "9a752724-a4a2-4fe7-f35b-6c364c46c20d"
      },
      "source": [
        "paid_list=[]\n",
        "free_list = []\n",
        "total_list = [i for i in play_df['App']]\n",
        "for i in range(len(play_df['Type'])):\n",
        "  if play_df['Type'][i]=='Paid':\n",
        "    paid_list.append(play_df['App'][i])\n",
        "  if play_df['Type'][i]=='Free':\n",
        "    free_list.append(play_df['App'][i])\n",
        "  else:\n",
        "    continue\n",
        "\n",
        "p = len(paid_list)\n",
        "q = len(free_list)\n",
        "r = len(total_list)\n",
        "    \n",
        "name = ('paid','free','total')\n",
        "values = (p,q,r)\n",
        "plt.bar(name,values)\n",
        "plt.title(' number of paid apps and number of free apps to total apps')\n",
        "plt.xlabel('Type')\n",
        "plt.ylabel('Number of Apps')"
      ],
      "execution_count": 33,
      "outputs": [
        {
          "output_type": "execute_result",
          "data": {
            "text/plain": [
              "Text(0, 0.5, 'Number of Apps')"
            ]
          },
          "metadata": {},
          "execution_count": 33
        },
        {
          "output_type": "display_data",
          "data": {
            "image/png": "[encoded data removed]",
            "text/plain": [
              "<Figure size 432x288 with 1 Axes>"
            ]
          },
          "metadata": {
            "needs_background": "light"
          }
        }
      ]
    },
    {
      "cell_type": "markdown",
      "metadata": {
        "id": "YjbTIFN3lZg_"
      },
      "source": [
        "### **Sentiment polarity is the inclination of positivity or negativity so lets see whats the average sentiment polarity per category**"
      ]
    },
    {
      "cell_type": "code",
      "metadata": {
        "colab": {
          "base_uri": "https://localhost:8080/",
          "height": 1000
        },
        "id": "JeAtbTP6gZM0",
        "outputId": "a7f8b331-df1d-41d3-e337-554cdcc102ad"
      },
      "source": [
        "combined_df.groupby('Category')['Sentiment_Polarity'].mean().reset_index()"
      ],
      "execution_count": 34,
      "outputs": [
        {
          "output_type": "execute_result",
          "data": {
            "text/html": [
              "<div>\n",
              "<style scoped>\n",
              "    .dataframe tbody tr th:only-of-type {\n",
              "        vertical-align: middle;\n",
              "    }\n",
              "\n",
              "    .dataframe tbody tr th {\n",
              "        vertical-align: top;\n",
              "    }\n",
              "\n",
              "    .dataframe thead th {\n",
              "        text-align: right;\n",
              "    }\n",
              "</style>\n",
              "<table border=\"1\" class=\"dataframe\">\n",
              "  <thead>\n",
              "    <tr style=\"text-align: right;\">\n",
              "      <th></th>\n",
              "      <th>Category</th>\n",
              "      <th>Sentiment_Polarity</th>\n",
              "    </tr>\n",
              "  </thead>\n",
              "  <tbody>\n",
              "    <tr>\n",
              "      <th>0</th>\n",
              "      <td>ART_AND_DESIGN</td>\n",
              "      <td>0.234735</td>\n",
              "    </tr>\n",
              "    <tr>\n",
              "      <th>1</th>\n",
              "      <td>AUTO_AND_VEHICLES</td>\n",
              "      <td>0.348683</td>\n",
              "    </tr>\n",
              "    <tr>\n",
              "      <th>2</th>\n",
              "      <td>BEAUTY</td>\n",
              "      <td>0.193360</td>\n",
              "    </tr>\n",
              "    <tr>\n",
              "      <th>3</th>\n",
              "      <td>BOOKS_AND_REFERENCE</td>\n",
              "      <td>0.226526</td>\n",
              "    </tr>\n",
              "    <tr>\n",
              "      <th>4</th>\n",
              "      <td>BUSINESS</td>\n",
              "      <td>0.247749</td>\n",
              "    </tr>\n",
              "    <tr>\n",
              "      <th>5</th>\n",
              "      <td>COMICS</td>\n",
              "      <td>0.468482</td>\n",
              "    </tr>\n",
              "    <tr>\n",
              "      <th>6</th>\n",
              "      <td>COMMUNICATION</td>\n",
              "      <td>0.182965</td>\n",
              "    </tr>\n",
              "    <tr>\n",
              "      <th>7</th>\n",
              "      <td>DATING</td>\n",
              "      <td>0.164817</td>\n",
              "    </tr>\n",
              "    <tr>\n",
              "      <th>8</th>\n",
              "      <td>EDUCATION</td>\n",
              "      <td>0.251392</td>\n",
              "    </tr>\n",
              "    <tr>\n",
              "      <th>9</th>\n",
              "      <td>ENTERTAINMENT</td>\n",
              "      <td>0.133400</td>\n",
              "    </tr>\n",
              "    <tr>\n",
              "      <th>10</th>\n",
              "      <td>EVENTS</td>\n",
              "      <td>0.377933</td>\n",
              "    </tr>\n",
              "    <tr>\n",
              "      <th>11</th>\n",
              "      <td>FAMILY</td>\n",
              "      <td>0.137005</td>\n",
              "    </tr>\n",
              "    <tr>\n",
              "      <th>12</th>\n",
              "      <td>FINANCE</td>\n",
              "      <td>0.169447</td>\n",
              "    </tr>\n",
              "    <tr>\n",
              "      <th>13</th>\n",
              "      <td>FOOD_AND_DRINK</td>\n",
              "      <td>0.253251</td>\n",
              "    </tr>\n",
              "    <tr>\n",
              "      <th>14</th>\n",
              "      <td>GAME</td>\n",
              "      <td>0.060506</td>\n",
              "    </tr>\n",
              "    <tr>\n",
              "      <th>15</th>\n",
              "      <td>HEALTH_AND_FITNESS</td>\n",
              "      <td>0.278884</td>\n",
              "    </tr>\n",
              "    <tr>\n",
              "      <th>16</th>\n",
              "      <td>HOUSE_AND_HOME</td>\n",
              "      <td>0.237435</td>\n",
              "    </tr>\n",
              "    <tr>\n",
              "      <th>17</th>\n",
              "      <td>LIBRARIES_AND_DEMO</td>\n",
              "      <td>0.240771</td>\n",
              "    </tr>\n",
              "    <tr>\n",
              "      <th>18</th>\n",
              "      <td>LIFESTYLE</td>\n",
              "      <td>0.187299</td>\n",
              "    </tr>\n",
              "    <tr>\n",
              "      <th>19</th>\n",
              "      <td>MAPS_AND_NAVIGATION</td>\n",
              "      <td>0.267218</td>\n",
              "    </tr>\n",
              "    <tr>\n",
              "      <th>20</th>\n",
              "      <td>MEDICAL</td>\n",
              "      <td>0.226565</td>\n",
              "    </tr>\n",
              "    <tr>\n",
              "      <th>21</th>\n",
              "      <td>NEWS_AND_MAGAZINES</td>\n",
              "      <td>0.106667</td>\n",
              "    </tr>\n",
              "    <tr>\n",
              "      <th>22</th>\n",
              "      <td>PARENTING</td>\n",
              "      <td>0.318880</td>\n",
              "    </tr>\n",
              "    <tr>\n",
              "      <th>23</th>\n",
              "      <td>PERSONALIZATION</td>\n",
              "      <td>0.252074</td>\n",
              "    </tr>\n",
              "    <tr>\n",
              "      <th>24</th>\n",
              "      <td>PHOTOGRAPHY</td>\n",
              "      <td>0.220280</td>\n",
              "    </tr>\n",
              "    <tr>\n",
              "      <th>25</th>\n",
              "      <td>PRODUCTIVITY</td>\n",
              "      <td>0.169384</td>\n",
              "    </tr>\n",
              "    <tr>\n",
              "      <th>26</th>\n",
              "      <td>SHOPPING</td>\n",
              "      <td>0.181029</td>\n",
              "    </tr>\n",
              "    <tr>\n",
              "      <th>27</th>\n",
              "      <td>SOCIAL</td>\n",
              "      <td>0.101338</td>\n",
              "    </tr>\n",
              "    <tr>\n",
              "      <th>28</th>\n",
              "      <td>SPORTS</td>\n",
              "      <td>0.172202</td>\n",
              "    </tr>\n",
              "    <tr>\n",
              "      <th>29</th>\n",
              "      <td>TOOLS</td>\n",
              "      <td>0.209034</td>\n",
              "    </tr>\n",
              "    <tr>\n",
              "      <th>30</th>\n",
              "      <td>TRAVEL_AND_LOCAL</td>\n",
              "      <td>0.168372</td>\n",
              "    </tr>\n",
              "    <tr>\n",
              "      <th>31</th>\n",
              "      <td>VIDEO_PLAYERS</td>\n",
              "      <td>0.143543</td>\n",
              "    </tr>\n",
              "    <tr>\n",
              "      <th>32</th>\n",
              "      <td>WEATHER</td>\n",
              "      <td>0.282033</td>\n",
              "    </tr>\n",
              "  </tbody>\n",
              "</table>\n",
              "</div>"
            ],
            "text/plain": [
              "               Category  Sentiment_Polarity\n",
              "0        ART_AND_DESIGN            0.234735\n",
              "1     AUTO_AND_VEHICLES            0.348683\n",
              "2                BEAUTY            0.193360\n",
              "3   BOOKS_AND_REFERENCE            0.226526\n",
              "4              BUSINESS            0.247749\n",
              "5                COMICS            0.468482\n",
              "6         COMMUNICATION            0.182965\n",
              "7                DATING            0.164817\n",
              "8             EDUCATION            0.251392\n",
              "9         ENTERTAINMENT            0.133400\n",
              "10               EVENTS            0.377933\n",
              "11               FAMILY            0.137005\n",
              "12              FINANCE            0.169447\n",
              "13       FOOD_AND_DRINK            0.253251\n",
              "14                 GAME            0.060506\n",
              "15   HEALTH_AND_FITNESS            0.278884\n",
              "16       HOUSE_AND_HOME            0.237435\n",
              "17   LIBRARIES_AND_DEMO            0.240771\n",
              "18            LIFESTYLE            0.187299\n",
              "19  MAPS_AND_NAVIGATION            0.267218\n",
              "20              MEDICAL            0.226565\n",
              "21   NEWS_AND_MAGAZINES            0.106667\n",
              "22            PARENTING            0.318880\n",
              "23      PERSONALIZATION            0.252074\n",
              "24          PHOTOGRAPHY            0.220280\n",
              "25         PRODUCTIVITY            0.169384\n",
              "26             SHOPPING            0.181029\n",
              "27               SOCIAL            0.101338\n",
              "28               SPORTS            0.172202\n",
              "29                TOOLS            0.209034\n",
              "30     TRAVEL_AND_LOCAL            0.168372\n",
              "31        VIDEO_PLAYERS            0.143543\n",
              "32              WEATHER            0.282033"
            ]
          },
          "metadata": {},
          "execution_count": 34
        }
      ]
    },
    {
      "cell_type": "code",
      "metadata": {
        "colab": {
          "base_uri": "https://localhost:8080/",
          "height": 466
        },
        "id": "z9W-iT-AljkD",
        "outputId": "5a72e846-9b98-493a-83ea-15a04839b8fe"
      },
      "source": [
        "\n",
        "x = sorted([i for i in combined_df['Category'].unique()])\n",
        "y = [i for i in combined_df.groupby('Category')['Sentiment_Polarity'].mean()]\n",
        "plt.figure(figsize=(15,5))\n",
        "plt.xticks(rotation = 90)\n",
        "plt.plot(x,y)\n",
        "plt.title('average sentiment polarity per category')\n",
        "plt.xlabel('Category')\n",
        "plt.ylabel('Average sentiment polarity')\n",
        "plt.show()"
      ],
      "execution_count": 35,
      "outputs": [
        {
          "output_type": "display_data",
          "data": {
            "image/png": "[encoded data removed]",
            "text/plain": [
              "<Figure size 1080x360 with 1 Axes>"
            ]
          },
          "metadata": {
            "needs_background": "light"
          }
        }
      ]
    },
    {
      "cell_type": "code",
      "metadata": {
        "colab": {
          "base_uri": "https://localhost:8080/",
          "height": 466
        },
        "id": "LQA5Jny9m0WM",
        "outputId": "3d54f317-6441-4aa6-ece8-34424bd4c79f"
      },
      "source": [
        "z = [i for i in combined_df.groupby('Category')['Sentiment_Subjectivity'].mean()]\n",
        "x = sorted([i for i in combined_df['Category'].unique()])\n",
        "plt.figure(figsize = (15,5))\n",
        "plt.xticks(rotation = 90)\n",
        "plt.plot(x,z)\n",
        "plt.title('Average sentiment subjectivity per category')\n",
        "plt.xlabel('Category')\n",
        "plt.ylabel('Average sentiment subjectivity.png ')\n",
        "plt.show()"
      ],
      "execution_count": 36,
      "outputs": [
        {
          "output_type": "display_data",
          "data": {
            "image/png": "[encoded data removed]",
            "text/plain": [
              "<Figure size 1080x360 with 1 Axes>"
            ]
          },
          "metadata": {
            "needs_background": "light"
          }
        }
      ]
    },
    {
      "cell_type": "markdown",
      "metadata": {
        "id": "TlhUHeAzqmGI"
      },
      "source": [
        "### So from the above, it can be seen that the comics and the events categories have more subjectivity than the game category, that means the comics and the events categories have more opinion based reviews than the games."
      ]
    },
    {
      "cell_type": "markdown",
      "metadata": {
        "id": "19jOlQyzsAAp"
      },
      "source": [
        "### **Sentiment polarity indicates how much a review is inclined to positivity or negativity and sentiment subjectivity indicates how much factual or emotional that review is. So lets see if there is any co-relation between the two**"
      ]
    },
    {
      "cell_type": "code",
      "metadata": {
        "colab": {
          "base_uri": "https://localhost:8080/",
          "height": 423
        },
        "id": "Yv5SCs4eqdSZ",
        "outputId": "116de875-3d48-42ab-fab6-eea1c99f6fc5"
      },
      "source": [
        "sentiment_df = combined_df[['Sentiment_Polarity','Sentiment_Subjectivity']].dropna()\n",
        "sentiment_df"
      ],
      "execution_count": 37,
      "outputs": [
        {
          "output_type": "execute_result",
          "data": {
            "text/html": [
              "<div>\n",
              "<style scoped>\n",
              "    .dataframe tbody tr th:only-of-type {\n",
              "        vertical-align: middle;\n",
              "    }\n",
              "\n",
              "    .dataframe tbody tr th {\n",
              "        vertical-align: top;\n",
              "    }\n",
              "\n",
              "    .dataframe thead th {\n",
              "        text-align: right;\n",
              "    }\n",
              "</style>\n",
              "<table border=\"1\" class=\"dataframe\">\n",
              "  <thead>\n",
              "    <tr style=\"text-align: right;\">\n",
              "      <th></th>\n",
              "      <th>Sentiment_Polarity</th>\n",
              "      <th>Sentiment_Subjectivity</th>\n",
              "    </tr>\n",
              "  </thead>\n",
              "  <tbody>\n",
              "    <tr>\n",
              "      <th>0</th>\n",
              "      <td>-0.250000</td>\n",
              "      <td>1.000000</td>\n",
              "    </tr>\n",
              "    <tr>\n",
              "      <th>1</th>\n",
              "      <td>-0.725000</td>\n",
              "      <td>0.833333</td>\n",
              "    </tr>\n",
              "    <tr>\n",
              "      <th>2</th>\n",
              "      <td>0.000000</td>\n",
              "      <td>0.000000</td>\n",
              "    </tr>\n",
              "    <tr>\n",
              "      <th>3</th>\n",
              "      <td>0.500000</td>\n",
              "      <td>0.600000</td>\n",
              "    </tr>\n",
              "    <tr>\n",
              "      <th>4</th>\n",
              "      <td>-0.800000</td>\n",
              "      <td>0.900000</td>\n",
              "    </tr>\n",
              "    <tr>\n",
              "      <th>...</th>\n",
              "      <td>...</td>\n",
              "      <td>...</td>\n",
              "    </tr>\n",
              "    <tr>\n",
              "      <th>72600</th>\n",
              "      <td>0.475000</td>\n",
              "      <td>0.512500</td>\n",
              "    </tr>\n",
              "    <tr>\n",
              "      <th>72601</th>\n",
              "      <td>0.566667</td>\n",
              "      <td>0.733333</td>\n",
              "    </tr>\n",
              "    <tr>\n",
              "      <th>72602</th>\n",
              "      <td>0.200000</td>\n",
              "      <td>0.200000</td>\n",
              "    </tr>\n",
              "    <tr>\n",
              "      <th>72603</th>\n",
              "      <td>0.000000</td>\n",
              "      <td>0.000000</td>\n",
              "    </tr>\n",
              "    <tr>\n",
              "      <th>72604</th>\n",
              "      <td>0.850000</td>\n",
              "      <td>0.450000</td>\n",
              "    </tr>\n",
              "  </tbody>\n",
              "</table>\n",
              "<p>72605 rows × 2 columns</p>\n",
              "</div>"
            ],
            "text/plain": [
              "       Sentiment_Polarity  Sentiment_Subjectivity\n",
              "0               -0.250000                1.000000\n",
              "1               -0.725000                0.833333\n",
              "2                0.000000                0.000000\n",
              "3                0.500000                0.600000\n",
              "4               -0.800000                0.900000\n",
              "...                   ...                     ...\n",
              "72600            0.475000                0.512500\n",
              "72601            0.566667                0.733333\n",
              "72602            0.200000                0.200000\n",
              "72603            0.000000                0.000000\n",
              "72604            0.850000                0.450000\n",
              "\n",
              "[72605 rows x 2 columns]"
            ]
          },
          "metadata": {},
          "execution_count": 37
        }
      ]
    },
    {
      "cell_type": "code",
      "metadata": {
        "colab": {
          "base_uri": "https://localhost:8080/",
          "height": 112
        },
        "id": "q6Fj6ElRsZvU",
        "outputId": "19124dec-9fa9-4cd1-ff22-58d20887185a"
      },
      "source": [
        "sentiment_df.corr()"
      ],
      "execution_count": 38,
      "outputs": [
        {
          "output_type": "execute_result",
          "data": {
            "text/html": [
              "<div>\n",
              "<style scoped>\n",
              "    .dataframe tbody tr th:only-of-type {\n",
              "        vertical-align: middle;\n",
              "    }\n",
              "\n",
              "    .dataframe tbody tr th {\n",
              "        vertical-align: top;\n",
              "    }\n",
              "\n",
              "    .dataframe thead th {\n",
              "        text-align: right;\n",
              "    }\n",
              "</style>\n",
              "<table border=\"1\" class=\"dataframe\">\n",
              "  <thead>\n",
              "    <tr style=\"text-align: right;\">\n",
              "      <th></th>\n",
              "      <th>Sentiment_Polarity</th>\n",
              "      <th>Sentiment_Subjectivity</th>\n",
              "    </tr>\n",
              "  </thead>\n",
              "  <tbody>\n",
              "    <tr>\n",
              "      <th>Sentiment_Polarity</th>\n",
              "      <td>1.000000</td>\n",
              "      <td>0.227486</td>\n",
              "    </tr>\n",
              "    <tr>\n",
              "      <th>Sentiment_Subjectivity</th>\n",
              "      <td>0.227486</td>\n",
              "      <td>1.000000</td>\n",
              "    </tr>\n",
              "  </tbody>\n",
              "</table>\n",
              "</div>"
            ],
            "text/plain": [
              "                        Sentiment_Polarity  Sentiment_Subjectivity\n",
              "Sentiment_Polarity                1.000000                0.227486\n",
              "Sentiment_Subjectivity            0.227486                1.000000"
            ]
          },
          "metadata": {},
          "execution_count": 38
        }
      ]
    },
    {
      "cell_type": "markdown",
      "metadata": {
        "id": "J-AFyeLdFAie"
      },
      "source": [
        "### **Lets create box plots for two sentiment polarity and sentiment subjectivity to know where most of the values lie**\n",
        "\n"
      ]
    },
    {
      "cell_type": "code",
      "metadata": {
        "colab": {
          "base_uri": "https://localhost:8080/",
          "height": 266
        },
        "id": "_Nuqi2PKsnLX",
        "outputId": "40b0bcac-0fd6-4e7b-8150-f47e11efbe72"
      },
      "source": [
        "x = [i for i in sentiment_df['Sentiment_Polarity']]\n",
        "y = [i for i in sentiment_df['Sentiment_Subjectivity']]\n",
        "plt.boxplot((x,y),patch_artist=True,labels = ['sentiment_polarity','sentiment_subjectivity'])\n",
        "plt.show()"
      ],
      "execution_count": 39,
      "outputs": [
        {
          "output_type": "display_data",
          "data": {
            "image/png": "[encoded data removed]",
            "text/plain": [
              "<Figure size 432x288 with 1 Axes>"
            ]
          },
          "metadata": {
            "needs_background": "light"
          }
        }
      ]
    },
    {
      "cell_type": "markdown",
      "metadata": {
        "id": "g36Ah5sgFVdG"
      },
      "source": [
        "### **Lets see which category has how much positiveness and negativeness by comparing the sentiment with the category**"
      ]
    },
    {
      "cell_type": "code",
      "metadata": {
        "colab": {
          "base_uri": "https://localhost:8080/",
          "height": 423
        },
        "id": "y24xiBKpFPm3",
        "outputId": "6f5e5616-72be-446a-df8b-33ec806eae58"
      },
      "source": [
        "#first lets make a dataframe by cleaning the na values in sentiment column from combined_df\n",
        "sentiment_category_df = combined_df[['Category','Sentiment']].dropna()\n",
        "sentiment_category_df"
      ],
      "execution_count": 40,
      "outputs": [
        {
          "output_type": "execute_result",
          "data": {
            "text/html": [
              "<div>\n",
              "<style scoped>\n",
              "    .dataframe tbody tr th:only-of-type {\n",
              "        vertical-align: middle;\n",
              "    }\n",
              "\n",
              "    .dataframe tbody tr th {\n",
              "        vertical-align: top;\n",
              "    }\n",
              "\n",
              "    .dataframe thead th {\n",
              "        text-align: right;\n",
              "    }\n",
              "</style>\n",
              "<table border=\"1\" class=\"dataframe\">\n",
              "  <thead>\n",
              "    <tr style=\"text-align: right;\">\n",
              "      <th></th>\n",
              "      <th>Category</th>\n",
              "      <th>Sentiment</th>\n",
              "    </tr>\n",
              "  </thead>\n",
              "  <tbody>\n",
              "    <tr>\n",
              "      <th>0</th>\n",
              "      <td>ART_AND_DESIGN</td>\n",
              "      <td>Negative</td>\n",
              "    </tr>\n",
              "    <tr>\n",
              "      <th>1</th>\n",
              "      <td>ART_AND_DESIGN</td>\n",
              "      <td>Negative</td>\n",
              "    </tr>\n",
              "    <tr>\n",
              "      <th>2</th>\n",
              "      <td>ART_AND_DESIGN</td>\n",
              "      <td>Neutral</td>\n",
              "    </tr>\n",
              "    <tr>\n",
              "      <th>3</th>\n",
              "      <td>ART_AND_DESIGN</td>\n",
              "      <td>Positive</td>\n",
              "    </tr>\n",
              "    <tr>\n",
              "      <th>4</th>\n",
              "      <td>ART_AND_DESIGN</td>\n",
              "      <td>Negative</td>\n",
              "    </tr>\n",
              "    <tr>\n",
              "      <th>...</th>\n",
              "      <td>...</td>\n",
              "      <td>...</td>\n",
              "    </tr>\n",
              "    <tr>\n",
              "      <th>72600</th>\n",
              "      <td>PHOTOGRAPHY</td>\n",
              "      <td>Positive</td>\n",
              "    </tr>\n",
              "    <tr>\n",
              "      <th>72601</th>\n",
              "      <td>PHOTOGRAPHY</td>\n",
              "      <td>Positive</td>\n",
              "    </tr>\n",
              "    <tr>\n",
              "      <th>72602</th>\n",
              "      <td>PHOTOGRAPHY</td>\n",
              "      <td>Positive</td>\n",
              "    </tr>\n",
              "    <tr>\n",
              "      <th>72603</th>\n",
              "      <td>PHOTOGRAPHY</td>\n",
              "      <td>Neutral</td>\n",
              "    </tr>\n",
              "    <tr>\n",
              "      <th>72604</th>\n",
              "      <td>PHOTOGRAPHY</td>\n",
              "      <td>Positive</td>\n",
              "    </tr>\n",
              "  </tbody>\n",
              "</table>\n",
              "<p>72605 rows × 2 columns</p>\n",
              "</div>"
            ],
            "text/plain": [
              "             Category Sentiment\n",
              "0      ART_AND_DESIGN  Negative\n",
              "1      ART_AND_DESIGN  Negative\n",
              "2      ART_AND_DESIGN   Neutral\n",
              "3      ART_AND_DESIGN  Positive\n",
              "4      ART_AND_DESIGN  Negative\n",
              "...               ...       ...\n",
              "72600     PHOTOGRAPHY  Positive\n",
              "72601     PHOTOGRAPHY  Positive\n",
              "72602     PHOTOGRAPHY  Positive\n",
              "72603     PHOTOGRAPHY   Neutral\n",
              "72604     PHOTOGRAPHY  Positive\n",
              "\n",
              "[72605 rows x 2 columns]"
            ]
          },
          "metadata": {},
          "execution_count": 40
        }
      ]
    },
    {
      "cell_type": "code",
      "metadata": {
        "colab": {
          "base_uri": "https://localhost:8080/",
          "height": 423
        },
        "id": "MZsF_knlFdPe",
        "outputId": "62278168-8a8f-4907-88a2-edee62b36b2d"
      },
      "source": [
        "#lets create a completely new dataframe by grouping the category and sentiment\n",
        "new_df = sentiment_category_df.groupby(['Sentiment','Category']).size().to_frame(name = 'count').reset_index()\n",
        "new_df"
      ],
      "execution_count": 41,
      "outputs": [
        {
          "output_type": "execute_result",
          "data": {
            "text/html": [
              "<div>\n",
              "<style scoped>\n",
              "    .dataframe tbody tr th:only-of-type {\n",
              "        vertical-align: middle;\n",
              "    }\n",
              "\n",
              "    .dataframe tbody tr th {\n",
              "        vertical-align: top;\n",
              "    }\n",
              "\n",
              "    .dataframe thead th {\n",
              "        text-align: right;\n",
              "    }\n",
              "</style>\n",
              "<table border=\"1\" class=\"dataframe\">\n",
              "  <thead>\n",
              "    <tr style=\"text-align: right;\">\n",
              "      <th></th>\n",
              "      <th>Sentiment</th>\n",
              "      <th>Category</th>\n",
              "      <th>count</th>\n",
              "    </tr>\n",
              "  </thead>\n",
              "  <tbody>\n",
              "    <tr>\n",
              "      <th>0</th>\n",
              "      <td>Negative</td>\n",
              "      <td>ART_AND_DESIGN</td>\n",
              "      <td>61</td>\n",
              "    </tr>\n",
              "    <tr>\n",
              "      <th>1</th>\n",
              "      <td>Negative</td>\n",
              "      <td>AUTO_AND_VEHICLES</td>\n",
              "      <td>17</td>\n",
              "    </tr>\n",
              "    <tr>\n",
              "      <th>2</th>\n",
              "      <td>Negative</td>\n",
              "      <td>BEAUTY</td>\n",
              "      <td>65</td>\n",
              "    </tr>\n",
              "    <tr>\n",
              "      <th>3</th>\n",
              "      <td>Negative</td>\n",
              "      <td>BOOKS_AND_REFERENCE</td>\n",
              "      <td>134</td>\n",
              "    </tr>\n",
              "    <tr>\n",
              "      <th>4</th>\n",
              "      <td>Negative</td>\n",
              "      <td>BUSINESS</td>\n",
              "      <td>342</td>\n",
              "    </tr>\n",
              "    <tr>\n",
              "      <th>...</th>\n",
              "      <td>...</td>\n",
              "      <td>...</td>\n",
              "      <td>...</td>\n",
              "    </tr>\n",
              "    <tr>\n",
              "      <th>94</th>\n",
              "      <td>Positive</td>\n",
              "      <td>SPORTS</td>\n",
              "      <td>2201</td>\n",
              "    </tr>\n",
              "    <tr>\n",
              "      <th>95</th>\n",
              "      <td>Positive</td>\n",
              "      <td>TOOLS</td>\n",
              "      <td>1090</td>\n",
              "    </tr>\n",
              "    <tr>\n",
              "      <th>96</th>\n",
              "      <td>Positive</td>\n",
              "      <td>TRAVEL_AND_LOCAL</td>\n",
              "      <td>1824</td>\n",
              "    </tr>\n",
              "    <tr>\n",
              "      <th>97</th>\n",
              "      <td>Positive</td>\n",
              "      <td>VIDEO_PLAYERS</td>\n",
              "      <td>190</td>\n",
              "    </tr>\n",
              "    <tr>\n",
              "      <th>98</th>\n",
              "      <td>Positive</td>\n",
              "      <td>WEATHER</td>\n",
              "      <td>165</td>\n",
              "    </tr>\n",
              "  </tbody>\n",
              "</table>\n",
              "<p>99 rows × 3 columns</p>\n",
              "</div>"
            ],
            "text/plain": [
              "   Sentiment             Category  count\n",
              "0   Negative       ART_AND_DESIGN     61\n",
              "1   Negative    AUTO_AND_VEHICLES     17\n",
              "2   Negative               BEAUTY     65\n",
              "3   Negative  BOOKS_AND_REFERENCE    134\n",
              "4   Negative             BUSINESS    342\n",
              "..       ...                  ...    ...\n",
              "94  Positive               SPORTS   2201\n",
              "95  Positive                TOOLS   1090\n",
              "96  Positive     TRAVEL_AND_LOCAL   1824\n",
              "97  Positive        VIDEO_PLAYERS    190\n",
              "98  Positive              WEATHER    165\n",
              "\n",
              "[99 rows x 3 columns]"
            ]
          },
          "metadata": {},
          "execution_count": 41
        }
      ]
    },
    {
      "cell_type": "code",
      "metadata": {
        "colab": {
          "base_uri": "https://localhost:8080/",
          "height": 1000
        },
        "id": "Nlr92nvFFnuB",
        "outputId": "52c378c4-f3a3-4a98-c9f8-041ffe88d6bb"
      },
      "source": [
        "# Now lets make a pivot to see which category has how much positive,negative and neutral reviews\n",
        "pivotted_new_df = new_df.pivot(index='Category',columns='Sentiment',values='count')\n",
        "pivotted_new_df"
      ],
      "execution_count": 42,
      "outputs": [
        {
          "output_type": "execute_result",
          "data": {
            "text/html": [
              "<div>\n",
              "<style scoped>\n",
              "    .dataframe tbody tr th:only-of-type {\n",
              "        vertical-align: middle;\n",
              "    }\n",
              "\n",
              "    .dataframe tbody tr th {\n",
              "        vertical-align: top;\n",
              "    }\n",
              "\n",
              "    .dataframe thead th {\n",
              "        text-align: right;\n",
              "    }\n",
              "</style>\n",
              "<table border=\"1\" class=\"dataframe\">\n",
              "  <thead>\n",
              "    <tr style=\"text-align: right;\">\n",
              "      <th>Sentiment</th>\n",
              "      <th>Negative</th>\n",
              "      <th>Neutral</th>\n",
              "      <th>Positive</th>\n",
              "    </tr>\n",
              "    <tr>\n",
              "      <th>Category</th>\n",
              "      <th></th>\n",
              "      <th></th>\n",
              "      <th></th>\n",
              "    </tr>\n",
              "  </thead>\n",
              "  <tbody>\n",
              "    <tr>\n",
              "      <th>ART_AND_DESIGN</th>\n",
              "      <td>61</td>\n",
              "      <td>62</td>\n",
              "      <td>259</td>\n",
              "    </tr>\n",
              "    <tr>\n",
              "      <th>AUTO_AND_VEHICLES</th>\n",
              "      <td>17</td>\n",
              "      <td>36</td>\n",
              "      <td>236</td>\n",
              "    </tr>\n",
              "    <tr>\n",
              "      <th>BEAUTY</th>\n",
              "      <td>65</td>\n",
              "      <td>88</td>\n",
              "      <td>185</td>\n",
              "    </tr>\n",
              "    <tr>\n",
              "      <th>BOOKS_AND_REFERENCE</th>\n",
              "      <td>134</td>\n",
              "      <td>130</td>\n",
              "      <td>551</td>\n",
              "    </tr>\n",
              "    <tr>\n",
              "      <th>BUSINESS</th>\n",
              "      <td>342</td>\n",
              "      <td>555</td>\n",
              "      <td>1450</td>\n",
              "    </tr>\n",
              "    <tr>\n",
              "      <th>COMICS</th>\n",
              "      <td>2</td>\n",
              "      <td>6</td>\n",
              "      <td>72</td>\n",
              "    </tr>\n",
              "    <tr>\n",
              "      <th>COMMUNICATION</th>\n",
              "      <td>372</td>\n",
              "      <td>285</td>\n",
              "      <td>1292</td>\n",
              "    </tr>\n",
              "    <tr>\n",
              "      <th>DATING</th>\n",
              "      <td>697</td>\n",
              "      <td>530</td>\n",
              "      <td>1971</td>\n",
              "    </tr>\n",
              "    <tr>\n",
              "      <th>EDUCATION</th>\n",
              "      <td>216</td>\n",
              "      <td>132</td>\n",
              "      <td>1346</td>\n",
              "    </tr>\n",
              "    <tr>\n",
              "      <th>ENTERTAINMENT</th>\n",
              "      <td>588</td>\n",
              "      <td>359</td>\n",
              "      <td>1486</td>\n",
              "    </tr>\n",
              "    <tr>\n",
              "      <th>EVENTS</th>\n",
              "      <td>16</td>\n",
              "      <td>17</td>\n",
              "      <td>125</td>\n",
              "    </tr>\n",
              "    <tr>\n",
              "      <th>FAMILY</th>\n",
              "      <td>1559</td>\n",
              "      <td>463</td>\n",
              "      <td>3888</td>\n",
              "    </tr>\n",
              "    <tr>\n",
              "      <th>FINANCE</th>\n",
              "      <td>442</td>\n",
              "      <td>255</td>\n",
              "      <td>1312</td>\n",
              "    </tr>\n",
              "    <tr>\n",
              "      <th>FOOD_AND_DRINK</th>\n",
              "      <td>128</td>\n",
              "      <td>107</td>\n",
              "      <td>611</td>\n",
              "    </tr>\n",
              "    <tr>\n",
              "      <th>GAME</th>\n",
              "      <td>7270</td>\n",
              "      <td>814</td>\n",
              "      <td>11041</td>\n",
              "    </tr>\n",
              "    <tr>\n",
              "      <th>HEALTH_AND_FITNESS</th>\n",
              "      <td>577</td>\n",
              "      <td>482</td>\n",
              "      <td>3444</td>\n",
              "    </tr>\n",
              "    <tr>\n",
              "      <th>HOUSE_AND_HOME</th>\n",
              "      <td>114</td>\n",
              "      <td>148</td>\n",
              "      <td>435</td>\n",
              "    </tr>\n",
              "    <tr>\n",
              "      <th>LIBRARIES_AND_DEMO</th>\n",
              "      <td>51</td>\n",
              "      <td>44</td>\n",
              "      <td>238</td>\n",
              "    </tr>\n",
              "    <tr>\n",
              "      <th>LIFESTYLE</th>\n",
              "      <td>261</td>\n",
              "      <td>269</td>\n",
              "      <td>802</td>\n",
              "    </tr>\n",
              "    <tr>\n",
              "      <th>MAPS_AND_NAVIGATION</th>\n",
              "      <td>27</td>\n",
              "      <td>36</td>\n",
              "      <td>129</td>\n",
              "    </tr>\n",
              "    <tr>\n",
              "      <th>MEDICAL</th>\n",
              "      <td>362</td>\n",
              "      <td>315</td>\n",
              "      <td>1534</td>\n",
              "    </tr>\n",
              "    <tr>\n",
              "      <th>NEWS_AND_MAGAZINES</th>\n",
              "      <td>646</td>\n",
              "      <td>244</td>\n",
              "      <td>1314</td>\n",
              "    </tr>\n",
              "    <tr>\n",
              "      <th>PARENTING</th>\n",
              "      <td>23</td>\n",
              "      <td>52</td>\n",
              "      <td>185</td>\n",
              "    </tr>\n",
              "    <tr>\n",
              "      <th>PERSONALIZATION</th>\n",
              "      <td>217</td>\n",
              "      <td>196</td>\n",
              "      <td>899</td>\n",
              "    </tr>\n",
              "    <tr>\n",
              "      <th>PHOTOGRAPHY</th>\n",
              "      <td>485</td>\n",
              "      <td>286</td>\n",
              "      <td>1709</td>\n",
              "    </tr>\n",
              "    <tr>\n",
              "      <th>PRODUCTIVITY</th>\n",
              "      <td>596</td>\n",
              "      <td>381</td>\n",
              "      <td>2144</td>\n",
              "    </tr>\n",
              "    <tr>\n",
              "      <th>SHOPPING</th>\n",
              "      <td>422</td>\n",
              "      <td>267</td>\n",
              "      <td>1337</td>\n",
              "    </tr>\n",
              "    <tr>\n",
              "      <th>SOCIAL</th>\n",
              "      <td>400</td>\n",
              "      <td>268</td>\n",
              "      <td>730</td>\n",
              "    </tr>\n",
              "    <tr>\n",
              "      <th>SPORTS</th>\n",
              "      <td>821</td>\n",
              "      <td>482</td>\n",
              "      <td>2201</td>\n",
              "    </tr>\n",
              "    <tr>\n",
              "      <th>TOOLS</th>\n",
              "      <td>347</td>\n",
              "      <td>357</td>\n",
              "      <td>1090</td>\n",
              "    </tr>\n",
              "    <tr>\n",
              "      <th>TRAVEL_AND_LOCAL</th>\n",
              "      <td>760</td>\n",
              "      <td>517</td>\n",
              "      <td>1824</td>\n",
              "    </tr>\n",
              "    <tr>\n",
              "      <th>VIDEO_PLAYERS</th>\n",
              "      <td>83</td>\n",
              "      <td>58</td>\n",
              "      <td>190</td>\n",
              "    </tr>\n",
              "    <tr>\n",
              "      <th>WEATHER</th>\n",
              "      <td>33</td>\n",
              "      <td>35</td>\n",
              "      <td>165</td>\n",
              "    </tr>\n",
              "  </tbody>\n",
              "</table>\n",
              "</div>"
            ],
            "text/plain": [
              "Sentiment            Negative  Neutral  Positive\n",
              "Category                                        \n",
              "ART_AND_DESIGN             61       62       259\n",
              "AUTO_AND_VEHICLES          17       36       236\n",
              "BEAUTY                     65       88       185\n",
              "BOOKS_AND_REFERENCE       134      130       551\n",
              "BUSINESS                  342      555      1450\n",
              "COMICS                      2        6        72\n",
              "COMMUNICATION             372      285      1292\n",
              "DATING                    697      530      1971\n",
              "EDUCATION                 216      132      1346\n",
              "ENTERTAINMENT             588      359      1486\n",
              "EVENTS                     16       17       125\n",
              "FAMILY                   1559      463      3888\n",
              "FINANCE                   442      255      1312\n",
              "FOOD_AND_DRINK            128      107       611\n",
              "GAME                     7270      814     11041\n",
              "HEALTH_AND_FITNESS        577      482      3444\n",
              "HOUSE_AND_HOME            114      148       435\n",
              "LIBRARIES_AND_DEMO         51       44       238\n",
              "LIFESTYLE                 261      269       802\n",
              "MAPS_AND_NAVIGATION        27       36       129\n",
              "MEDICAL                   362      315      1534\n",
              "NEWS_AND_MAGAZINES        646      244      1314\n",
              "PARENTING                  23       52       185\n",
              "PERSONALIZATION           217      196       899\n",
              "PHOTOGRAPHY               485      286      1709\n",
              "PRODUCTIVITY              596      381      2144\n",
              "SHOPPING                  422      267      1337\n",
              "SOCIAL                    400      268       730\n",
              "SPORTS                    821      482      2201\n",
              "TOOLS                     347      357      1090\n",
              "TRAVEL_AND_LOCAL          760      517      1824\n",
              "VIDEO_PLAYERS              83       58       190\n",
              "WEATHER                    33       35       165"
            ]
          },
          "metadata": {},
          "execution_count": 42
        }
      ]
    },
    {
      "cell_type": "code",
      "metadata": {
        "colab": {
          "base_uri": "https://localhost:8080/",
          "height": 112
        },
        "id": "Hoa_M_KbGIoD",
        "outputId": "f672bda9-dbcd-468a-cbaa-987967cc15f4"
      },
      "source": [
        "#Lets find out the most negative reviewed category\n",
        "pivotted_new_df[pivotted_new_df['Negative']==pivotted_new_df['Negative'].max()]"
      ],
      "execution_count": 43,
      "outputs": [
        {
          "output_type": "execute_result",
          "data": {
            "text/html": [
              "<div>\n",
              "<style scoped>\n",
              "    .dataframe tbody tr th:only-of-type {\n",
              "        vertical-align: middle;\n",
              "    }\n",
              "\n",
              "    .dataframe tbody tr th {\n",
              "        vertical-align: top;\n",
              "    }\n",
              "\n",
              "    .dataframe thead th {\n",
              "        text-align: right;\n",
              "    }\n",
              "</style>\n",
              "<table border=\"1\" class=\"dataframe\">\n",
              "  <thead>\n",
              "    <tr style=\"text-align: right;\">\n",
              "      <th>Sentiment</th>\n",
              "      <th>Negative</th>\n",
              "      <th>Neutral</th>\n",
              "      <th>Positive</th>\n",
              "    </tr>\n",
              "    <tr>\n",
              "      <th>Category</th>\n",
              "      <th></th>\n",
              "      <th></th>\n",
              "      <th></th>\n",
              "    </tr>\n",
              "  </thead>\n",
              "  <tbody>\n",
              "    <tr>\n",
              "      <th>GAME</th>\n",
              "      <td>7270</td>\n",
              "      <td>814</td>\n",
              "      <td>11041</td>\n",
              "    </tr>\n",
              "  </tbody>\n",
              "</table>\n",
              "</div>"
            ],
            "text/plain": [
              "Sentiment  Negative  Neutral  Positive\n",
              "Category                              \n",
              "GAME           7270      814     11041"
            ]
          },
          "metadata": {},
          "execution_count": 43
        }
      ]
    },
    {
      "cell_type": "code",
      "metadata": {
        "colab": {
          "base_uri": "https://localhost:8080/",
          "height": 112
        },
        "id": "keMri4qiKAh5",
        "outputId": "e0d0808c-c158-4943-da4b-83bc8cb0c6ea"
      },
      "source": [
        "# Lets find out the most positive reviewed category\n",
        "pivotted_new_df[pivotted_new_df['Positive']==pivotted_new_df['Positive'].max()]"
      ],
      "execution_count": 44,
      "outputs": [
        {
          "output_type": "execute_result",
          "data": {
            "text/html": [
              "<div>\n",
              "<style scoped>\n",
              "    .dataframe tbody tr th:only-of-type {\n",
              "        vertical-align: middle;\n",
              "    }\n",
              "\n",
              "    .dataframe tbody tr th {\n",
              "        vertical-align: top;\n",
              "    }\n",
              "\n",
              "    .dataframe thead th {\n",
              "        text-align: right;\n",
              "    }\n",
              "</style>\n",
              "<table border=\"1\" class=\"dataframe\">\n",
              "  <thead>\n",
              "    <tr style=\"text-align: right;\">\n",
              "      <th>Sentiment</th>\n",
              "      <th>Negative</th>\n",
              "      <th>Neutral</th>\n",
              "      <th>Positive</th>\n",
              "    </tr>\n",
              "    <tr>\n",
              "      <th>Category</th>\n",
              "      <th></th>\n",
              "      <th></th>\n",
              "      <th></th>\n",
              "    </tr>\n",
              "  </thead>\n",
              "  <tbody>\n",
              "    <tr>\n",
              "      <th>GAME</th>\n",
              "      <td>7270</td>\n",
              "      <td>814</td>\n",
              "      <td>11041</td>\n",
              "    </tr>\n",
              "  </tbody>\n",
              "</table>\n",
              "</div>"
            ],
            "text/plain": [
              "Sentiment  Negative  Neutral  Positive\n",
              "Category                              \n",
              "GAME           7270      814     11041"
            ]
          },
          "metadata": {},
          "execution_count": 44
        }
      ]
    },
    {
      "cell_type": "code",
      "metadata": {
        "id": "Xs9VhOkxLIC4",
        "colab": {
          "base_uri": "https://localhost:8080/",
          "height": 112
        },
        "outputId": "0aa5a220-edf5-4e73-80b2-2dacd99ab28b"
      },
      "source": [
        "# Lets find out the minimum number of negative reviewed Category\n",
        "pivotted_new_df[pivotted_new_df['Negative']==pivotted_new_df['Negative'].min()]"
      ],
      "execution_count": 45,
      "outputs": [
        {
          "output_type": "execute_result",
          "data": {
            "text/html": [
              "<div>\n",
              "<style scoped>\n",
              "    .dataframe tbody tr th:only-of-type {\n",
              "        vertical-align: middle;\n",
              "    }\n",
              "\n",
              "    .dataframe tbody tr th {\n",
              "        vertical-align: top;\n",
              "    }\n",
              "\n",
              "    .dataframe thead th {\n",
              "        text-align: right;\n",
              "    }\n",
              "</style>\n",
              "<table border=\"1\" class=\"dataframe\">\n",
              "  <thead>\n",
              "    <tr style=\"text-align: right;\">\n",
              "      <th>Sentiment</th>\n",
              "      <th>Negative</th>\n",
              "      <th>Neutral</th>\n",
              "      <th>Positive</th>\n",
              "    </tr>\n",
              "    <tr>\n",
              "      <th>Category</th>\n",
              "      <th></th>\n",
              "      <th></th>\n",
              "      <th></th>\n",
              "    </tr>\n",
              "  </thead>\n",
              "  <tbody>\n",
              "    <tr>\n",
              "      <th>COMICS</th>\n",
              "      <td>2</td>\n",
              "      <td>6</td>\n",
              "      <td>72</td>\n",
              "    </tr>\n",
              "  </tbody>\n",
              "</table>\n",
              "</div>"
            ],
            "text/plain": [
              "Sentiment  Negative  Neutral  Positive\n",
              "Category                              \n",
              "COMICS            2        6        72"
            ]
          },
          "metadata": {},
          "execution_count": 45
        }
      ]
    },
    {
      "cell_type": "code",
      "metadata": {
        "colab": {
          "base_uri": "https://localhost:8080/",
          "height": 112
        },
        "id": "mO1KnmajckLo",
        "outputId": "db8fdc84-ad87-489b-b1a8-1ec412b37133"
      },
      "source": [
        "# Lets find out the minimum number of positive reviewed Category\n",
        "pivotted_new_df[pivotted_new_df['Positive']==pivotted_new_df['Positive'].min()]"
      ],
      "execution_count": 46,
      "outputs": [
        {
          "output_type": "execute_result",
          "data": {
            "text/html": [
              "<div>\n",
              "<style scoped>\n",
              "    .dataframe tbody tr th:only-of-type {\n",
              "        vertical-align: middle;\n",
              "    }\n",
              "\n",
              "    .dataframe tbody tr th {\n",
              "        vertical-align: top;\n",
              "    }\n",
              "\n",
              "    .dataframe thead th {\n",
              "        text-align: right;\n",
              "    }\n",
              "</style>\n",
              "<table border=\"1\" class=\"dataframe\">\n",
              "  <thead>\n",
              "    <tr style=\"text-align: right;\">\n",
              "      <th>Sentiment</th>\n",
              "      <th>Negative</th>\n",
              "      <th>Neutral</th>\n",
              "      <th>Positive</th>\n",
              "    </tr>\n",
              "    <tr>\n",
              "      <th>Category</th>\n",
              "      <th></th>\n",
              "      <th></th>\n",
              "      <th></th>\n",
              "    </tr>\n",
              "  </thead>\n",
              "  <tbody>\n",
              "    <tr>\n",
              "      <th>COMICS</th>\n",
              "      <td>2</td>\n",
              "      <td>6</td>\n",
              "      <td>72</td>\n",
              "    </tr>\n",
              "  </tbody>\n",
              "</table>\n",
              "</div>"
            ],
            "text/plain": [
              "Sentiment  Negative  Neutral  Positive\n",
              "Category                              \n",
              "COMICS            2        6        72"
            ]
          },
          "metadata": {},
          "execution_count": 46
        }
      ]
    },
    {
      "cell_type": "code",
      "metadata": {
        "id": "evKnvVHlc-Ee",
        "colab": {
          "base_uri": "https://localhost:8080/",
          "height": 466
        },
        "outputId": "05377b3c-6d7b-4507-8f32-37b7a23e3317"
      },
      "source": [
        "# Lets plot the pivot\n",
        "pivotted_new_df.plot(kind = 'bar',figsize = (20,5), width =0.7)\n",
        "plt.xticks(rotation = 90)\n",
        "plt.title('Sentiment per category')\n",
        "plt.xlabel('Category')\n",
        "plt.ylabel('Number of Reviews')\n",
        "plt.show()"
      ],
      "execution_count": 47,
      "outputs": [
        {
          "output_type": "display_data",
          "data": {
            "image/png": "[encoded data removed]",
            "text/plain": [
              "<Figure size 1440x360 with 1 Axes>"
            ]
          },
          "metadata": {
            "needs_background": "light"
          }
        }
      ]
    },
    {
      "cell_type": "code",
      "metadata": {
        "id": "xC-BXVjH3Tyy"
      },
      "source": [
        ""
      ],
      "execution_count": null,
      "outputs": []
    }
  ]
}